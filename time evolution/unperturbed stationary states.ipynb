{
 "cells": [
  {
   "cell_type": "code",
   "execution_count": 1,
   "metadata": {},
   "outputs": [
    {
     "name": "stdout",
     "output_type": "stream",
     "text": [
      "WARNING: Cannot import Cython compiled modules for the special functions (specfunc.__init__.py).\n",
      "WARNING: Cannot import Cython compiled modules for the approaches (builder_base.py).\n",
      "WARNING: Cannot import Cython compiled modules for the approaches (builder_elph.py).\n"
     ]
    }
   ],
   "source": [
    "import numpy as np\n",
    "import matplotlib.pyplot as plt\n",
    "import importlib\n",
    "import time_evolutor as te\n",
    "import plotting as p\n",
    "\n",
    "import sys\n",
    "sys.path.append('/../../temp_prog/')\n",
    "import tur_calculator as tc\n",
    "\n"
   ]
  },
  {
   "cell_type": "code",
   "execution_count": 2,
   "metadata": {},
   "outputs": [],
   "source": [
    "#------------------SETUP-------------------\n",
    "\n",
    "T_L = 25 \n",
    "T_R = 10\n",
    "V_B = 30\n",
    "eps = 50\n",
    "\n",
    "INPUT = {\n",
    "    'eps': eps,\n",
    "    'omega': 0, \n",
    "    'u': 250, \n",
    "    'V_B': V_B,\n",
    "    'gamma': 1,  \n",
    "    'T_L': T_L,\n",
    "    'T_R': T_R\n",
    "}\n",
    "\n",
    "initial = [1/4,1/4,1/4,1/4,0,0]\n",
    "ti_array = np.linspace(0,1e5,10000)"
   ]
  },
  {
   "cell_type": "code",
   "execution_count": 5,
   "metadata": {},
   "outputs": [
    {
     "name": "stdout",
     "output_type": "stream",
     "text": [
      "[[ 1. -0.  0. -0. -0. -0.]\n",
      " [-0.  1.  0. -0. -0.  0.]\n",
      " [ 0.  0.  1.  0.  0.  0.]\n",
      " [-0. -0.  0.  1. -0.  0.]\n",
      " [-0. -0.  0. -0.  1.  0.]\n",
      " [-0. -0.  0.  0. -0.  1.]]\n",
      "check l1 is identity: [-0.189  0.189  0.189  0.567 -0.756  0.   ]\n"
     ]
    }
   ],
   "source": [
    "importlib.reload(te)\n",
    "liouvillian, dim, eval_j, left_ev, right_ev = te.parallel_liouvillian(initial, ti_array, **INPUT)"
   ]
  },
  {
   "cell_type": "code",
   "execution_count": 10,
   "metadata": {},
   "outputs": [
    {
     "name": "stdout",
     "output_type": "stream",
     "text": [
      "[-8.34483850e-01  9.52189369e-01  0.00000000e+00 -5.87346888e-16\n",
      " -3.06584443e-01  7.55928946e-01]\n",
      "[ 0.30308461  0.19128057  0.         -0.70710678 -0.21478321 -0.37796447]\n",
      "[ 0.30308461  0.19128057  0.          0.70710678 -0.21478321 -0.37796447]\n",
      "[ 1.09484732e-06  5.61882370e-07  0.00000000e+00  8.47860169e-17\n",
      "  7.36150864e-01 -3.31512601e-22]\n",
      "[-3.46289104e-01 -1.41982005e-01  0.00000000e+00  1.70152955e-16\n",
      "  5.21367654e-01 -3.77964473e-01]\n",
      "[0. 0. 1. 0. 0. 0.]\n",
      "(6, 6)\n"
     ]
    }
   ],
   "source": [
    "print(right_ev[0])\n",
    "print(right_ev[1])\n",
    "print(right_ev[2])\n",
    "print(right_ev[3])\n",
    "print(right_ev[4])\n",
    "print(right_ev[5])\n",
    "\n",
    "print(right_ev.shape)"
   ]
  },
  {
   "cell_type": "code",
   "execution_count": 8,
   "metadata": {},
   "outputs": [
    {
     "name": "stdout",
     "output_type": "stream",
     "text": [
      "[ 3.00679023e-17+0.j -1.93067802e-16+0.j -1.90155272e+00+0.j\n",
      " -1.90155272e+00+0.j -4.00000000e+00+0.j -4.00000000e+00+0.j]\n"
     ]
    }
   ],
   "source": [
    "print(eval_j)"
   ]
  },
  {
   "cell_type": "code",
   "execution_count": 11,
   "metadata": {},
   "outputs": [
    {
     "name": "stdout",
     "output_type": "stream",
     "text": [
      "[-0.18870743  0.41828932  0.          0.          0.          0.03977736]\n",
      "[ 1.89188311e-01  4.91822447e-01  0.00000000e+00 -7.07106781e-01\n",
      " -8.43002492e-07 -3.84145079e-01]\n"
     ]
    }
   ],
   "source": [
    "print(left_ev[0])\n",
    "print(left_ev[1])"
   ]
  },
  {
   "cell_type": "code",
   "execution_count": 19,
   "metadata": {},
   "outputs": [
    {
     "name": "stdout",
     "output_type": "stream",
     "text": [
      "[ 8.08975134e-01 -1.30980935e+00  5.00828936e-01  5.27839474e-06\n",
      " -4.04484928e-01 -1.43743874e+00]\n",
      "[-0.51279005 -1.33968225 -0.97595215  2.82842445  1.67060725  0.71871937]\n",
      "[-0.51279005  1.48874011  1.8524702  -2.82842026 -1.15781511  0.71871937]\n",
      "[ 2.79965524e+00 -1.39982567e+00 -1.39982461e+00 -4.96460584e-06\n",
      " -1.39983010e+00  6.30388688e-22]\n",
      "[ 1.78101163e+00 -7.55510684e-01 -1.02549695e+00 -3.99487185e-06\n",
      " -8.90507813e-01  7.18719372e-01]\n",
      "[ 1.90154935e+00  0.00000000e+00 -1.90155272e+00  3.37200428e-06\n",
      " -9.50772988e-01  0.00000000e+00]\n"
     ]
    }
   ],
   "source": [
    "eigen = right_ev[0]\n",
    "result = liouvillian@eigen\n",
    "\n",
    "\n",
    "for idx, ev in enumerate(eval_j):\n",
    "    #print(ev*right_ev[idx])\n",
    "    print(liouvillian@right_ev[idx])"
   ]
  }
 ],
 "metadata": {
  "kernelspec": {
   "display_name": "venv",
   "language": "python",
   "name": "python3"
  },
  "language_info": {
   "codemirror_mode": {
    "name": "ipython",
    "version": 3
   },
   "file_extension": ".py",
   "mimetype": "text/x-python",
   "name": "python",
   "nbconvert_exporter": "python",
   "pygments_lexer": "ipython3",
   "version": "3.13.1"
  }
 },
 "nbformat": 4,
 "nbformat_minor": 2
}
