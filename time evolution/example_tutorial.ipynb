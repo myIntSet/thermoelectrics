{
 "cells": [
  {
   "cell_type": "code",
   "execution_count": 2,
   "metadata": {},
   "outputs": [
    {
     "name": "stdout",
     "output_type": "stream",
     "text": [
      "WARNING: Cannot import Cython compiled modules for the special functions (specfunc.__init__.py).\n",
      "WARNING: Cannot import Cython compiled modules for the approaches (builder_base.py).\n",
      "WARNING: Cannot import Cython compiled modules for the approaches (builder_elph.py).\n"
     ]
    }
   ],
   "source": [
    "import sys\n",
    "sys.path.append('/../../QmeQ/qmeq/')\n",
    "import qmeq\n",
    "\n",
    "from scipy.linalg import eig, eigvals\n",
    "import numpy as np\n",
    "\n",
    "import matplotlib.pyplot as plt"
   ]
  },
  {
   "cell_type": "code",
   "execution_count": 3,
   "metadata": {},
   "outputs": [],
   "source": [
    "# Anderson dot model (from qmeq tutorial)\n",
    "\n",
    "# Quantum dot parameters\n",
    "vgate = 0.0\n",
    "bfield = 0.001\n",
    "omega = .1\n",
    "U = 20.0\n",
    "\n",
    "\n",
    "# Lead parameters\n",
    "vbias = 0.5\n",
    "temp = 1.0\n",
    "dband = 100.0\n",
    "# Tunneling amplitudes\n",
    "gam = 0.5\n",
    "t0 = np.sqrt(gam/(2*np.pi))\n",
    "\n",
    "nsingle = 2\n",
    "\n",
    "# 0 is up, 1 is down\n",
    "hsingle = {(0, 0): vgate+bfield/2,\n",
    "           (1, 1): vgate-bfield/2,\n",
    "           (0, 1): omega}\n",
    "\n",
    "coulomb = {(0,1,1,0):U}\n",
    "\n",
    "tleads = {(0, 0):t0, # L, up   <-- up\n",
    "          (1, 0):t0, # R, up   <-- up\n",
    "          (2, 1): 2 * t0, # L, down <-- down         \n",
    "          (3, 1): 2* t0} # R, down <-- down\n",
    "                     # lead label, lead spin <-- level spin\n",
    "\n",
    "nleads = 4\n",
    "\n",
    "#        L,up        R,up         L,down      R,down\n",
    "mulst = {0: vbias/2, 1: -vbias/2, 2: vbias/2, 3: -vbias/2}\n",
    "tlst =  {0: temp,    1: temp,     2: temp,    3: temp}\n",
    "\n",
    "\n",
    "\n",
    "sys = qmeq.Builder(nsingle, hsingle, coulomb,\n",
    "                      nleads, tleads, mulst, tlst, dband, countingleads = [0,2],\n",
    "                      kerntype='py1vN', itype = 1)\n",
    "\n",
    "# make sure the kernel does not get overwritten\n",
    "sys.make_kern_copy = True\n",
    "\n",
    "sys.solve()"
   ]
  },
  {
   "cell_type": "code",
   "execution_count": 6,
   "metadata": {},
   "outputs": [
    {
     "name": "stdout",
     "output_type": "stream",
     "text": [
      "(6, 6)\n"
     ]
    }
   ],
   "source": [
    "liouvillian = sys.kern\n",
    "print(liouvillian.shape)\n",
    "#print(liouvillian)"
   ]
  },
  {
   "cell_type": "code",
   "execution_count": 7,
   "metadata": {},
   "outputs": [],
   "source": [
    "# calculate eigenvalues, left and right eigenvalues\n",
    "eval_j, left_ev, right_ev = eig(liouvillian, left = True) \n",
    "\n",
    "# sort eigenvalues/eigenvectors\n",
    "idx = eval_j.argsort()[::-1]   \n",
    "eval_j = eval_j[idx]\n",
    "left_ev = left_ev[:,idx]\n",
    "right_ev = right_ev[:,idx] "
   ]
  },
  {
   "cell_type": "code",
   "execution_count": 9,
   "metadata": {},
   "outputs": [],
   "source": [
    "result = np.zeros((6,6)) + 0j\n",
    "\n",
    "for j in range(6):\n",
    "    for k in range(6):\n",
    "        result[j,k] = np.dot(np.conjugate(left_ev[:,j]),right_ev[:,k])\n",
    "        # normalization to 1\n",
    "        if j == k:\n",
    "            result[j,k] = result[j,k]/np.dot(np.conjugate(left_ev[:,j]),right_ev[:,k])\n",
    "            \n",
    "#print(str(np.round(np.real(result),1)))"
   ]
  },
  {
   "cell_type": "code",
   "execution_count": 10,
   "metadata": {},
   "outputs": [
    {
     "data": {
      "text/plain": [
       "array([1., 1., 1., 1., 0., 0.])"
      ]
     },
     "execution_count": 10,
     "metadata": {},
     "output_type": "execute_result"
    }
   ],
   "source": [
    "np.real(np.round(2 * left_ev[:,0],0))"
   ]
  },
  {
   "cell_type": "code",
   "execution_count": 11,
   "metadata": {},
   "outputs": [
    {
     "name": "stdout",
     "output_type": "stream",
     "text": [
      "rho_ss from left/right eigenvectors: \n",
      "[ 3.34519464e-01+0.j  3.46476800e-01+0.j  3.18988119e-01+0.j\n",
      "  1.56170598e-05+0.j -4.20054452e-03+0.j  1.62122212e-02+0.j]\n",
      " \n",
      " qmeq solution rho_ss: \n",
      "[ 3.34519464e-01  3.46476800e-01  3.18988119e-01  1.56170598e-05\n",
      " -4.20054452e-03  1.62122212e-02]\n",
      " \n",
      " difference: [0. 0. 0. 0. 0. 0.]\n"
     ]
    }
   ],
   "source": [
    "# definie initial state\n",
    "initial = np.array([1,0,0,0,0,0])\n",
    "\n",
    "# calculate stationary state from left/right eigenvectors\n",
    "rho_ss = 1/np.dot((left_ev[:,0]),right_ev[:,0]) * np.dot(np.conjugate(left_ev[:,0]), initial) * right_ev[:,0]\n",
    "\n",
    "\n",
    "print('rho_ss from left/right eigenvectors: \\n' + str(rho_ss))\n",
    "print(' \\n qmeq solution rho_ss: \\n' + str(sys.phi0))\n",
    "print(' \\n difference: ' + str(np.round(sys.phi0 - rho_ss,10).real) )"
   ]
  },
  {
   "cell_type": "code",
   "execution_count": 12,
   "metadata": {},
   "outputs": [
    {
     "name": "stdout",
     "output_type": "stream",
     "text": [
      "(6, 500)\n"
     ]
    }
   ],
   "source": [
    "#FULL TIME EVOLUTION:\n",
    "\n",
    "# define time grid\n",
    "ti_array = np.linspace(0,10,500)\n",
    "\n",
    "#dimension\n",
    "dim = liouvillian.shape[0]\n",
    "\n",
    "rho_t = np.zeros((dim,ti_array.shape[0])) + 0j\n",
    "\n",
    "# calculate elements and perform sum\n",
    "for i in range(dim-1):\n",
    "    norm = np.dot(np.conjugate(left_ev[:,i+1]),right_ev[:,i+1])\n",
    "    rho_t += 1/norm * np.dot(np.conjugate(left_ev[:,i+1]), initial) * np.exp(eval_j[i+1] *  ti_array[None,:]) * right_ev[:,i+1,None] \n",
    "\n",
    "#add stationary state    \n",
    "rho_t = rho_t + rho_ss[:,None]\n",
    "\n",
    "print(rho_t.shape)"
   ]
  },
  {
   "cell_type": "code",
   "execution_count": 16,
   "metadata": {},
   "outputs": [
    {
     "data": {
      "text/plain": [
       "Text(0, 0.5, '$\\\\rho(t)$')"
      ]
     },
     "execution_count": 16,
     "metadata": {},
     "output_type": "execute_result"
    },
    {
     "data": {
      "image/png": "[encoded data removed]",
      "text/plain": [
       "<Figure size 640x480 with 1 Axes>"
      ]
     },
     "metadata": {},
     "output_type": "display_data"
    }
   ],
   "source": [
    "#EVOLUTION OF DIAGONAL COMPONENTS\n",
    "\n",
    "plt.plot(ti_array, np.real(rho_t[0]), label = r'$\\rho_{00}$')\n",
    "plt.plot(ti_array[-1],sys.phi0[0], '>',color = 'C0')\n",
    "plt.plot(ti_array[-1],sys.phi0[0], '*',color = 'C0', label = r'0 ss$')\n",
    "\n",
    "plt.plot(ti_array, np.real(rho_t[1]), label = r'$\\rho_{11}$')\n",
    "plt.plot(ti_array[-1],sys.phi0[1], '>',color = 'C1')\n",
    "plt.plot(ti_array[-1],sys.phi0[1], '*',color = 'C1', label = r'1 ss$')\n",
    "\n",
    "\n",
    "plt.plot(ti_array, np.real(rho_t[2]), label = r'$\\rho_{22}$')\n",
    "plt.plot(ti_array[-1],sys.phi0[2], '>',color = 'C2')\n",
    "plt.plot(ti_array[-1],sys.phi0[2], '*',color = 'C2', label = r'2 ss$')\n",
    "\n",
    "\n",
    "\n",
    "plt.plot(ti_array, np.real(rho_t[3]), label = r'$\\rho_{33}$')\n",
    "plt.plot(ti_array[-1],sys.phi0[3], '*',color = 'C3', label = r'qmeq 3 $\\rho_{ss}$')\n",
    "plt.plot(ti_array[-1],sys.phi0[3], '>',color = 'C3')\n",
    "\n",
    "plt.legend()\n",
    "\n",
    "plt.xlabel(r'time $t$')\n",
    "plt.ylabel(r'$\\rho(t)$')"
   ]
  },
  {
   "cell_type": "code",
   "execution_count": null,
   "metadata": {},
   "outputs": [],
   "source": [
    "#EVOLUTION OF OFF DIAGONAL COMPONENTS\n",
    "\n",
    "plt.plot(ti_array, np.real(rho_t[4]), label = r'Re[$\\rho_{12}$]')\n",
    "plt.plot(ti_array[-1],sys.phi0[4], '>',color = 'C0')\n",
    "\n",
    "\n",
    "\n",
    "plt.plot(ti_array, np.real(rho_t[5]), label = r'Im[$\\rho_{12}$]')\n",
    "plt.plot(ti_array[-1],sys.phi0[5], '>',color = 'black', label = r'qmeq $\\rho_{ss}$')\n",
    "plt.plot(ti_array[-1],sys.phi0[5], '>',color = 'C1')\n",
    "\n",
    "plt.legend()\n",
    "\n",
    "plt.xlabel(r'time $t$')\n",
    "plt.ylabel(r'$\\rho(t)$')"
   ]
  },
  {
   "cell_type": "code",
   "execution_count": 17,
   "metadata": {},
   "outputs": [],
   "source": [
    "# PARTICLE CURRENT\n",
    "\n",
    "# transient current\n",
    "\n",
    "# qmeq solution for stationary current \n",
    "I_ss = sys.current\n",
    "\n",
    "I_t_qmeq = np.zeros((nleads,ti_array.shape[0]))\n",
    "I_t_CF = np.zeros((ti_array.shape[0]))\n",
    "\n",
    "\n",
    "for i in range(ti_array.shape[0]):\n",
    "    \n",
    "    # reset current    \n",
    "    sys.current[:] = np.zeros(nleads)\n",
    "    \n",
    "    # set stationary state to rho_t value\n",
    "    sys.phi0[:] = np.real(rho_t[:,i])\n",
    "    \n",
    "    # calculate current (also calculates energy and heat currents)\n",
    "    sys.appr.generate_current() # calculates current both ways\n",
    "    I_t_qmeq[:,i] = sys.current\n",
    "    I_t_CF[i] = sys.current_noise[0] \n",
    "    \n",
    "    #--------------------------------------------\n",
    "    \n",
    "# combine contributions from left and right lead    \n",
    "IL_t_qmeq = I_t_qmeq[0] + I_t_qmeq[2]\n",
    "IR_t_qmeq = I_t_qmeq[1] + I_t_qmeq[3]"
   ]
  },
  {
   "cell_type": "code",
   "execution_count": null,
   "metadata": {},
   "outputs": [
    {
     "data": {
      "text/plain": [
       "Text(0, 0.5, '$I(t)$')"
      ]
     },
     "execution_count": 24,
     "metadata": {},
     "output_type": "execute_result"
    },
    {
     "data": {
      "image/png": "[encoded data removed]",
      "text/plain": [
       "<Figure size 640x480 with 1 Axes>"
      ]
     },
     "metadata": {},
     "output_type": "display_data"
    }
   ],
   "source": [
    "#plotting particle current\n",
    "\n",
    "plt.plot(ti_array,IL_t_qmeq , label = 'left')\n",
    "plt.plot(ti_array, IR_t_qmeq ,label = 'right')\n",
    "plt.plot(ti_array[-1], (I_ss[1] + I_ss[3]), '>', color = 'C1' , )\n",
    "\n",
    "plt.plot(ti_array, I_t_CF, ':', color = 'black', label = r'from CF')\n",
    "\n",
    "plt.plot(ti_array[-1], I_ss[0] + I_ss[2],'>',color = 'black', label = r'qmeq $\\rho_{ss}$')\n",
    "plt.plot(ti_array[-1], I_ss[0] + I_ss[2], '>', color = 'C0', )\n",
    "\n",
    "plt.legend()\n",
    "\n",
    "plt.xlabel(r' $t$')\n",
    "plt.ylabel(r'$I(t)$')"
   ]
  }
 ],
 "metadata": {
  "kernelspec": {
   "display_name": "venv",
   "language": "python",
   "name": "python3"
  },
  "language_info": {
   "codemirror_mode": {
    "name": "ipython",
    "version": 3
   },
   "file_extension": ".py",
   "mimetype": "text/x-python",
   "name": "python",
   "nbconvert_exporter": "python",
   "pygments_lexer": "ipython3",
   "version": "3.13.1"
  }
 },
 "nbformat": 4,
 "nbformat_minor": 2
}
