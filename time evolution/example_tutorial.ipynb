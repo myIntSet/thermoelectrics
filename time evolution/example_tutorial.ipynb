{
 "cells": [
  {
   "cell_type": "code",
   "execution_count": 2,
   "metadata": {},
   "outputs": [
    {
     "name": "stdout",
     "output_type": "stream",
     "text": [
      "WARNING: Cannot import Cython compiled modules for the special functions (specfunc.__init__.py).\n",
      "WARNING: Cannot import Cython compiled modules for the approaches (builder_base.py).\n",
      "WARNING: Cannot import Cython compiled modules for the approaches (builder_elph.py).\n"
     ]
    }
   ],
   "source": [
    "import sys\n",
    "sys.path.append('/../../QmeQ/qmeq/')\n",
    "import qmeq\n",
    "\n",
    "from scipy.linalg import eig, eigvals\n",
    "import numpy as np\n",
    "\n",
    "import matplotlib.pyplot as plt"
   ]
  },
  {
   "cell_type": "code",
   "execution_count": null,
   "metadata": {},
   "outputs": [],
   "source": [
    "# Anderson dot model (from qmeq tutorial)\n",
    "\n",
    "# Quantum dot parameters\n",
    "vgate = 0.0\n",
    "bfield = 0.001\n",
    "omega = .1\n",
    "U = 20.0\n",
    "\n",
    "\n",
    "# Lead parameters\n",
    "vbias = 0.5\n",
    "temp = 1.0\n",
    "dband = 100.0\n",
    "# Tunneling amplitudes\n",
    "gam = 0.5\n",
    "t0 = np.sqrt(gam/(2*np.pi))\n",
    "\n",
    "nsingle = 2\n",
    "\n",
    "# 0 is up, 1 is down\n",
    "hsingle = {(0, 0): vgate+bfield/2,\n",
    "           (1, 1): vgate-bfield/2,\n",
    "           (0, 1): omega}\n",
    "\n",
    "coulomb = {(0,1,1,0):U}\n",
    "\n",
    "tleads = {(0, 0):t0, # L, up   <-- up\n",
    "          (1, 0):t0, # R, up   <-- up\n",
    "          (2, 1): 2 * t0, # L, down <-- down         \n",
    "          (3, 1): 2* t0} # R, down <-- down\n",
    "                     # lead label, lead spin <-- level spin\n",
    "\n",
    "nleads = 4\n",
    "\n",
    "#        L,up        R,up         L,down      R,down\n",
    "mulst = {0: vbias/2, 1: -vbias/2, 2: vbias/2, 3: -vbias/2}\n",
    "tlst =  {0: temp,    1: temp,     2: temp,    3: temp}\n",
    "\n",
    "\n",
    "\n",
    "sys = qmeq.Builder(nsingle, hsingle, coulomb,\n",
    "                      nleads, tleads, mulst, tlst, dband, countingleads = [0,2],\n",
    "                      kerntype='py1vN', itype = 1)\n",
    "\n",
    "# make sure the kernel does not get overwritten\n",
    "sys.make_kern_copy = True\n",
    "\n",
    "sys.solve()"
   ]
  }
 ],
 "metadata": {
  "kernelspec": {
   "display_name": "venv",
   "language": "python",
   "name": "python3"
  },
  "language_info": {
   "codemirror_mode": {
    "name": "ipython",
    "version": 3
   },
   "file_extension": ".py",
   "mimetype": "text/x-python",
   "name": "python",
   "nbconvert_exporter": "python",
   "pygments_lexer": "ipython3",
   "version": "3.13.1"
  }
 },
 "nbformat": 4,
 "nbformat_minor": 2
}
