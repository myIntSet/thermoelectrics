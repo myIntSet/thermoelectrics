{
 "cells": [
  {
   "cell_type": "code",
   "execution_count": 1,
   "id": "528f6490",
   "metadata": {},
   "outputs": [
    {
     "name": "stdout",
     "output_type": "stream",
     "text": [
      "WARNING: Cannot import Cython compiled modules for the special functions (specfunc.__init__.py).\n",
      "WARNING: Cannot import Cython compiled modules for the approaches (builder_base.py).\n",
      "WARNING: Cannot import Cython compiled modules for the approaches (builder_elph.py).\n"
     ]
    }
   ],
   "source": [
    "import sys\n",
    "sys.path.append('/../../QmeQ/qmeq/')\n",
    "import qmeq\n",
    "import numpy as np\n",
    "import matplotlib.pyplot as plt\n",
    "from matplotlib.colors import SymLogNorm\n",
    "\n",
    "from scipy.linalg import eig, eigvals"
   ]
  },
  {
   "cell_type": "code",
   "execution_count": 2,
   "id": "3ddc9d20",
   "metadata": {},
   "outputs": [],
   "source": [
    "# Parallel double dot\n",
    "\n",
    "# Quantum dot parameters\n",
    "vgate = 50\n",
    "bfield = .08\n",
    "omega = 0.0\n",
    "U = 250\n",
    "\n",
    "\n",
    "# Lead parameters\n",
    "vbias = 30\n",
    "T_L = 25\n",
    "T_R = 10\n",
    "dband = 1e4\n",
    "# Tunneling amplitudes\n",
    "gam = 1\n",
    "t0 = np.sqrt(gam/(2*np.pi))\n",
    "#-----------------------------------------------------------------------------------------------\n",
    "\n",
    "'''\n",
    "mulst = {0:mu_L, 1:mu_R}\n",
    "tlst = {0:T_L, 1:T_R}\n",
    "\n",
    "sys = qmeq.Builder(nsingle=n, hsingle={(0,0):eps-delta_epsilon, (1,1):eps+delta_epsilon, (0,1):omega}, coulomb=U, nleads=nleads,\n",
    "            mulst=mulst, tlst=tlst, tleads={(0, 0):t1, (1, 1):t1, (0, 1):t2, (1, 0):t2},\n",
    "            dband=1e4, countingleads=[0], kerntype='pyLindblad', itype=1)\n",
    "'''\n",
    "#-----------------------------------------------------------------------------------------------------------\n",
    "\n",
    "nsingle = 2\n",
    "\n",
    "# single body Hamiltonian\n",
    "hsingle = {(0, 0): vgate-bfield/2,\n",
    "           (1, 1): vgate+bfield/2,\n",
    "           (0, 1): omega}\n",
    "\n",
    "coulomb = {(0,1,1,0):U}\n",
    "\n",
    "tleads = {(0, 0):t0, # L qd0\n",
    "          (1, 0):2*t0, # R qd0\n",
    "          (0, 1): 2*t0, # L, qd1         \n",
    "          (1, 1): t0} # R, qd1\n",
    "\n",
    "nleads = 2\n",
    "\n",
    "#        L           R\n",
    "mulst = {0: -vbias/2, 1: vbias/2}\n",
    "tlst =  {0: T_L,    1: T_R}\n",
    "\n",
    "\n",
    "\n",
    "sys = qmeq.Builder(nsingle, hsingle, coulomb,\n",
    "                      nleads, tleads, mulst, tlst, dband, countingleads = [0],\n",
    "                      kerntype='pyLindblad', itype = 1)\n",
    "\n",
    "# make sure the kernel does not get overwritten\n",
    "#sys.make_kern_copy = True\n",
    "\n",
    "sys.solve()"
   ]
  },
  {
   "cell_type": "code",
   "execution_count": 3,
   "id": "e1070dc2",
   "metadata": {},
   "outputs": [
    {
     "name": "stdout",
     "output_type": "stream",
     "text": [
      "(6, 6)\n"
     ]
    }
   ],
   "source": [
    "liouvillian = sys.kern\n",
    "print(liouvillian.shape)\n",
    "# print(liouvillian)"
   ]
  },
  {
   "cell_type": "code",
   "execution_count": 4,
   "id": "5a9eaf29",
   "metadata": {},
   "outputs": [],
   "source": [
    "# calculate eigenvalues, left and right eigenvalues\n",
    "eval_j, left_ev, right_ev = eig(liouvillian, left = True) \n",
    "\n",
    "# sort eigenvalues/eigenvectors\n",
    "idx = eval_j.argsort()[::-1]   \n",
    "eval_j = eval_j[idx]\n",
    "left_ev = left_ev[:,idx]\n",
    "right_ev = right_ev[:,idx] "
   ]
  },
  {
   "cell_type": "code",
   "execution_count": 15,
   "id": "8c014a06",
   "metadata": {},
   "outputs": [
    {
     "name": "stdout",
     "output_type": "stream",
     "text": [
      "[ 0.+0.j -0.+0.j  0.+0.j  0.+0.j -0.+0.j  0.+0.j]\n",
      "[-0.+0.j -0.+0.j  0.+0.j -0.+0.j  0.+0.j -0.+0.j]\n",
      "[ 0.+0.j -0.+0.j  0.+0.j  0.+0.j  0.+0.j  0.+0.j]\n",
      "[-0.+0.j  0.+0.j -0.+0.j -0.+0.j -0.+0.j -0.+0.j]\n",
      "[ 0.+0.j -0.+0.j -0.+0.j  0.+0.j -0.+0.j  0.+0.j]\n",
      "[-0.+0.j  0.+0.j -0.+0.j -0.+0.j  0.+0.j  0.+0.j]\n"
     ]
    }
   ],
   "source": [
    "# check if eigenvalues and eigenvectors are actually eigenthings (rounded to 10 decimal places)\n",
    "for i in range(6):\n",
    "    print((liouvillian@right_ev[:,i]-eval_j[i] * right_ev[:,i]).round(10))"
   ]
  },
  {
   "cell_type": "code",
   "execution_count": 7,
   "id": "163e7f81",
   "metadata": {},
   "outputs": [
    {
     "name": "stdout",
     "output_type": "stream",
     "text": [
      "[[ 1.  0. -0.  0. -0.  0.]\n",
      " [ 0.  1. -0.  0.  0. -0.]\n",
      " [-0. -0.  1. -0. -0. -0.]\n",
      " [ 0.  0. -0.  1.  0.  0.]\n",
      " [-0.  0. -0.  0.  1. -0.]\n",
      " [-0.  0. -0.  0. -0.  1.]]\n"
     ]
    }
   ],
   "source": [
    "result = np.zeros((6,6)) + 0j\n",
    "\n",
    "for j in range(6):\n",
    "    for k in range(6):\n",
    "        result[j,k] = np.dot(np.conjugate(left_ev[:,j]),right_ev[:,k])\n",
    "        # normalization to 1\n",
    "        if j == k:\n",
    "            result[j,k] = result[j,k]/np.dot(np.conjugate(left_ev[:,j]),right_ev[:,k])\n",
    "            \n",
    "print(str(np.round(np.real(result),1)))"
   ]
  },
  {
   "cell_type": "code",
   "execution_count": 8,
   "id": "3878a9f3",
   "metadata": {},
   "outputs": [
    {
     "data": {
      "text/plain": [
       "array([ 1.,  1.,  1.,  1., -0.,  0.])"
      ]
     },
     "execution_count": 8,
     "metadata": {},
     "output_type": "execute_result"
    }
   ],
   "source": [
    "np.real(np.round(-2 * left_ev[:,0],0))"
   ]
  },
  {
   "cell_type": "code",
   "execution_count": 9,
   "id": "03004db9",
   "metadata": {},
   "outputs": [
    {
     "name": "stdout",
     "output_type": "stream",
     "text": [
      "rho_ss from left/right eigenvectors: \n",
      "[ 9.05407779e-01  3.54325607e-02  5.91595917e-02  6.81483881e-08\n",
      " -3.35552505e-04 -5.64681609e-06]\n",
      " \n",
      " qmeq solution rho_ss: \n",
      "[ 9.05407779e-01  3.54325607e-02  5.91595917e-02  6.81483881e-08\n",
      " -3.35552505e-04 -5.64681609e-06]\n",
      " \n",
      " difference: [ 0. -0. -0. -0.  0.  0.]\n"
     ]
    }
   ],
   "source": [
    "# definie initial state\n",
    "initial = np.array([1,0,0,0,0,0])\n",
    "\n",
    "# calculate stationary state from left/right eigenvectors\n",
    "rho_ss = 1/np.dot((left_ev[:,0]),right_ev[:,0]) * np.dot(np.conjugate(left_ev[:,0]), initial) * right_ev[:,0]\n",
    "\n",
    "\n",
    "print('rho_ss from left/right eigenvectors: \\n' + str(rho_ss))\n",
    "print(' \\n qmeq solution rho_ss: \\n' + str(sys.phi0))\n",
    "print(' \\n difference: ' + str(np.round(sys.phi0 - rho_ss,10).real) )"
   ]
  },
  {
   "cell_type": "code",
   "execution_count": 10,
   "id": "b724dd3f",
   "metadata": {},
   "outputs": [
    {
     "name": "stdout",
     "output_type": "stream",
     "text": [
      "(6, 500)\n"
     ]
    }
   ],
   "source": [
    "# define time grid\n",
    "ti_array = np.linspace(0,500000,500)\n",
    "\n",
    "#dimension\n",
    "dim = liouvillian.shape[0]\n",
    "\n",
    "rho_t = np.zeros((dim,ti_array.shape[0])) + 0j\n",
    "\n",
    "# calculate elements and perform sum\n",
    "for i in range(dim-1):\n",
    "    norm = np.dot(np.conjugate(left_ev[:,i+1]),right_ev[:,i+1])\n",
    "    rho_t += 1/norm * np.dot(np.conjugate(left_ev[:,i+1]), initial) * np.exp(eval_j[i+1] *  ti_array[None,:]) * right_ev[:,i+1,None] \n",
    "\n",
    "#add stationary state    \n",
    "rho_t = rho_t + rho_ss[:,None]\n",
    "\n",
    "print(rho_t.shape)"
   ]
  },
  {
   "cell_type": "code",
   "execution_count": 11,
   "id": "9c391663",
   "metadata": {},
   "outputs": [
    {
     "data": {
      "text/plain": [
       "Text(0, 0.5, '$\\\\rho(t)$')"
      ]
     },
     "execution_count": 11,
     "metadata": {},
     "output_type": "execute_result"
    },
    {
     "data": {
      "image/png": "[encoded data removed]",
      "text/plain": [
       "<Figure size 640x480 with 1 Axes>"
      ]
     },
     "metadata": {},
     "output_type": "display_data"
    }
   ],
   "source": [
    "plt.plot(ti_array, np.real(rho_t[0]), label = r'$\\rho_{00}$')\n",
    "plt.plot(ti_array[-1],sys.phi0[0], '>',color = 'C0')\n",
    "\n",
    "plt.plot(ti_array, np.real(rho_t[1]), label = r'$\\rho_{11}$')\n",
    "plt.plot(ti_array[-1],sys.phi0[1], '>',color = 'C1')\n",
    "\n",
    "\n",
    "plt.plot(ti_array, np.real(rho_t[2]), label = r'$\\rho_{22}$')\n",
    "plt.plot(ti_array[-1],sys.phi0[2], '>',color = 'C2')\n",
    "\n",
    "\n",
    "\n",
    "plt.plot(ti_array, np.real(rho_t[3]), label = r'$\\rho_{33}$')\n",
    "plt.plot(ti_array[-1],sys.phi0[3], '>',color = 'black', label = r'qmeq $\\rho_{ss}$')\n",
    "plt.plot(ti_array[-1],sys.phi0[3], '>',color = 'C3')\n",
    "\n",
    "plt.legend()\n",
    "\n",
    "plt.xlabel(r'time $t$')\n",
    "plt.ylabel(r'$\\rho(t)$')"
   ]
  },
  {
   "cell_type": "code",
   "execution_count": 12,
   "id": "1b12ed13",
   "metadata": {},
   "outputs": [
    {
     "data": {
      "text/plain": [
       "Text(0, 0.5, '$\\\\rho(t)$')"
      ]
     },
     "execution_count": 12,
     "metadata": {},
     "output_type": "execute_result"
    },
    {
     "data": {
      "image/png": "[encoded data removed]",
      "text/plain": [
       "<Figure size 640x480 with 1 Axes>"
      ]
     },
     "metadata": {},
     "output_type": "display_data"
    }
   ],
   "source": [
    "plt.plot(ti_array, np.real(rho_t[4]), label = r'Re[$\\rho_{12}$]')\n",
    "plt.plot(ti_array[-1],sys.phi0[4], '>',color = 'C0')\n",
    "\n",
    "\n",
    "\n",
    "plt.plot(ti_array, np.real(rho_t[5]), label = r'Im[$\\rho_{12}$]')\n",
    "plt.plot(ti_array[-1],sys.phi0[5], '>',color = 'black', label = r'qmeq $\\rho_{ss}$')\n",
    "plt.plot(ti_array[-1],sys.phi0[5], '>',color = 'C1')\n",
    "\n",
    "plt.legend()\n",
    "\n",
    "plt.xlabel(r'time $t$')\n",
    "plt.ylabel(r'$\\rho(t)$')"
   ]
  },
  {
   "cell_type": "code",
   "execution_count": 13,
   "id": "5b2b142c",
   "metadata": {},
   "outputs": [],
   "source": [
    "# transient current\n",
    "\n",
    "# qmeq solution for stationary current \n",
    "I_ss = sys.current\n",
    "\n",
    "I_t_qmeq = np.zeros((nleads,ti_array.shape[0]))\n",
    "I_t_CF = np.zeros((ti_array.shape[0]))\n",
    "\n",
    "\n",
    "for i in range(ti_array.shape[0]):\n",
    "    \n",
    "    # reset current    \n",
    "    sys.current[:] = np.zeros(nleads)\n",
    "    \n",
    "    # set stationary state to rho_t value\n",
    "    sys.phi0[:] = np.real(rho_t[:,i])\n",
    "    \n",
    "    # calculate current (also calculates energy and heat currents)\n",
    "    sys.appr.generate_current() # calculates current both ways\n",
    "    I_t_qmeq[:,i] = sys.current\n",
    "    I_t_CF[i] = sys.current_noise[0] \n",
    "    \n",
    "    #--------------------------------------------\n",
    "    \n",
    "# combine contributions from left and right lead    \n",
    "IL_t_qmeq = I_t_qmeq[0]\n",
    "IR_t_qmeq = I_t_qmeq[1]"
   ]
  },
  {
   "cell_type": "code",
   "execution_count": 14,
   "id": "7abfbe96",
   "metadata": {},
   "outputs": [
    {
     "data": {
      "text/plain": [
       "Text(0, 0.5, '$I(t)$')"
      ]
     },
     "execution_count": 14,
     "metadata": {},
     "output_type": "execute_result"
    },
    {
     "data": {
      "image/png": "[encoded data removed]",
      "text/plain": [
       "<Figure size 640x480 with 1 Axes>"
      ]
     },
     "metadata": {},
     "output_type": "display_data"
    }
   ],
   "source": [
    "plt.plot(ti_array,IL_t_qmeq , label = 'left')\n",
    "plt.plot(ti_array, IR_t_qmeq ,label = 'right')\n",
    "plt.plot(ti_array[-1], (I_ss[1]), '>', color = 'C1' , )\n",
    "\n",
    "plt.plot(ti_array, I_t_CF, ':', color = 'black', label = r'from CF')\n",
    "\n",
    "plt.plot(ti_array[-1], I_ss[0],'>',color = 'black', label = r'qmeq $\\rho_{ss}$')\n",
    "plt.plot(ti_array[-1], I_ss[0], '>', color = 'C0', )\n",
    "\n",
    "plt.legend()\n",
    "\n",
    "plt.xlabel(r' $t$')\n",
    "plt.ylabel(r'$I(t)$')"
   ]
  },
  {
   "cell_type": "code",
   "execution_count": null,
   "id": "e12530db",
   "metadata": {},
   "outputs": [],
   "source": []
  },
  {
   "cell_type": "code",
   "execution_count": null,
   "id": "86207337",
   "metadata": {},
   "outputs": [],
   "source": []
  }
 ],
 "metadata": {
  "kernelspec": {
   "display_name": "venv",
   "language": "python",
   "name": "python3"
  },
  "language_info": {
   "codemirror_mode": {
    "name": "ipython",
    "version": 3
   },
   "file_extension": ".py",
   "mimetype": "text/x-python",
   "name": "python",
   "nbconvert_exporter": "python",
   "pygments_lexer": "ipython3",
   "version": "3.13.1"
  }
 },
 "nbformat": 4,
 "nbformat_minor": 5
}
