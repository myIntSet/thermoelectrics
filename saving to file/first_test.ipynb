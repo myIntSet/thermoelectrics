{
 "cells": [
  {
   "cell_type": "code",
   "execution_count": 5,
   "metadata": {},
   "outputs": [],
   "source": [
    "import numpy as np\n",
    "\n",
    "Hej1 = [1,2,3,4]\n",
    "Hej2 = [[1,3], [2,4], [6,8], [8,3]]\n",
    "Expl = [\"Hej\"]\n",
    "\n",
    "np.savez(\"my_arrays.npz\", Save1=Hej1, Save2=Hej2, Save3=Expl)"
   ]
  },
  {
   "cell_type": "code",
   "execution_count": 7,
   "metadata": {},
   "outputs": [
    {
     "name": "stdout",
     "output_type": "stream",
     "text": [
      "['Save1', 'Save2', 'Save3']\n",
      "a_loaded:\n",
      " [1 2 3 4]\n",
      "b_loaded:\n",
      " [[1 3]\n",
      " [2 4]\n",
      " [6 8]\n",
      " [8 3]]\n",
      "c_loaded:\n",
      " ['Hej']\n"
     ]
    }
   ],
   "source": [
    "# Load the .npz file\n",
    "data = np.load(\"my_arrays.npz\")\n",
    "\n",
    "print(data.files)\n",
    "\n",
    "# Access arrays by their variable names\n",
    "a_loaded = data['Save1']\n",
    "b_loaded = data['Save2']\n",
    "c_loaded = data['Save3']\n",
    "\n",
    "# (Optional) Verify by printing\n",
    "print(\"a_loaded:\\n\", a_loaded)\n",
    "print(\"b_loaded:\\n\", b_loaded)\n",
    "print(\"c_loaded:\\n\", c_loaded)"
   ]
  }
 ],
 "metadata": {
  "kernelspec": {
   "display_name": "venv",
   "language": "python",
   "name": "python3"
  },
  "language_info": {
   "codemirror_mode": {
    "name": "ipython",
    "version": 3
   },
   "file_extension": ".py",
   "mimetype": "text/x-python",
   "name": "python",
   "nbconvert_exporter": "python",
   "pygments_lexer": "ipython3",
   "version": "3.13.1"
  }
 },
 "nbformat": 4,
 "nbformat_minor": 2
}
