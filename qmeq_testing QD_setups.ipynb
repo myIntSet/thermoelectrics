{
 "cells": [
  {
   "cell_type": "code",
   "execution_count": 8,
   "metadata": {},
   "outputs": [],
   "source": [
    "import sys\n",
    "sys.path.append('/../QmeQ/qmeq/')\n",
    "#sys.path.append('../qmeq/')\n",
    "import qmeq\n",
    "import numpy as np\n",
    "import matplotlib.pyplot as plt"
   ]
  },
  {
   "cell_type": "code",
   "execution_count": 9,
   "metadata": {},
   "outputs": [],
   "source": [
    "#--SETUP for QMEQ: ---------------------------------------------------------------------------------\n",
    "epsilon = 500\n",
    "omega = 200\n",
    "V_B = 20\n",
    "mu_L = -V_B/2       \n",
    "mu_R = V_B/2        \n",
    "\n",
    "gammaL = 0.5\n",
    "gammaR = gammaL\n",
    "T_L = 100\n",
    "T_R = 200"
   ]
  },
  {
   "cell_type": "code",
   "execution_count": 10,
   "metadata": {},
   "outputs": [],
   "source": [
    "#---QmeQ parameters, 2 QDs coupled in series (without spin)--------------------------------------------------------\n",
    "n = 2\n",
    "h = {(0,0):epsilon, (0,1):omega, (1,1):epsilon} \n",
    "\n",
    "nleads = 2\n",
    "mulst = {0:mu_L, 1:mu_R}\n",
    "tlst = {0:T_L, 1:T_R}\n",
    "\n",
    "tL = np.sqrt(gammaL/np.pi/2)\n",
    "tR = np.sqrt(gammaR/np.pi/2)\n",
    "\n",
    "tleads = {(0, 0):tL, (1, 1):tR}\n"
   ]
  },
  {
   "cell_type": "code",
   "execution_count": 11,
   "metadata": {},
   "outputs": [],
   "source": [
    "system = qmeq.Builder(nsingle=n, hsingle=h, nleads=nleads,\n",
    "                         mulst=mulst, tlst=tlst, tleads=tleads, countingleads=[0], kerntype='pyLindblad')"
   ]
  },
  {
   "cell_type": "code",
   "execution_count": 12,
   "metadata": {},
   "outputs": [
    {
     "name": "stdout",
     "output_type": "stream",
     "text": [
      "WARNING: Could not solve the linear set of equations.\n",
      "  Error from the solver: Singular matrix\n",
      "  The reasons for such a failure can be various:\n",
      "  1. Some of the transport channels may be outside the bandwidth D of the leads.\n",
      "     In this case removing some of the states with the method [remove_states()] will help.\n",
      "  2. Replacement of one of the equations with the normalisation condition.\n",
      "     In this case try to use different [norm_row]\n",
      "     or solve the linear system using [symq=False] and the solution method [solmethod='lsqr'].\n",
      "  This warning will not be shown again.\n",
      "  To check if the solution succeeded check the property [success].\n",
      "Standard current: [0. 0.]\n",
      "Counting currents and noise at the left lead (Pauli): [0. 0.]\n",
      "False\n"
     ]
    }
   ],
   "source": [
    "system.solve()\n",
    "print('Standard current:',system.current)\n",
    "print('Counting currents and noise at the left lead (Pauli):', system.current_noise)\n",
    "print(system.success)"
   ]
  },
  {
   "cell_type": "code",
   "execution_count": 6,
   "metadata": {},
   "outputs": [],
   "source": [
    "#double QD in series with spin---------------------------------------------\n",
    "epsilon = 500\n",
    "omega = 400\n",
    "n = 4\n",
    "h = {(0,0):epsilon, (1,1):epsilon, (2,2):epsilon, (3,3):epsilon, (0,2):omega, (1,3):omega}\n",
    "\n",
    "T = 100\n",
    "nleads = 4\n",
    "mulst = {0:0, 1:0, 2:0, 3:0}\n",
    "tlst = {0:T, 1:T, 2:2*T, 3:2*T}\n",
    "\n",
    "gammaL = 1.5\n",
    "gammaR = .5\n",
    "tL = np.sqrt(gammaL/np.pi/2)\n",
    "tR = np.sqrt(gammaR/np.pi/2)\n",
    "\n",
    "tleads = {(0, 0):tL, (1, 1):tL, (2, 2):tR, (3, 3):tR}\n"
   ]
  },
  {
   "cell_type": "code",
   "execution_count": 7,
   "metadata": {},
   "outputs": [
    {
     "ename": "NameError",
     "evalue": "name 'U' is not defined",
     "output_type": "error",
     "traceback": [
      "\u001b[1;31m---------------------------------------------------------------------------\u001b[0m",
      "\u001b[1;31mNameError\u001b[0m                                 Traceback (most recent call last)",
      "Cell \u001b[1;32mIn[7], line 1\u001b[0m\n\u001b[1;32m----> 1\u001b[0m system_series \u001b[38;5;241m=\u001b[39m qmeq\u001b[38;5;241m.\u001b[39mBuilder(nsingle\u001b[38;5;241m=\u001b[39mn, hsingle\u001b[38;5;241m=\u001b[39mh, coulomb\u001b[38;5;241m=\u001b[39m\u001b[43mU\u001b[49m, nleads\u001b[38;5;241m=\u001b[39mnleads,\n\u001b[0;32m      2\u001b[0m                          mulst\u001b[38;5;241m=\u001b[39mmulst, tlst\u001b[38;5;241m=\u001b[39mtlst, tleads\u001b[38;5;241m=\u001b[39mtleads, dband\u001b[38;5;241m=\u001b[39m\u001b[38;5;241m1e4\u001b[39m, countingleads\u001b[38;5;241m=\u001b[39m[\u001b[38;5;241m0\u001b[39m,\u001b[38;5;241m1\u001b[39m], kerntype\u001b[38;5;241m=\u001b[39m\u001b[38;5;124m'\u001b[39m\u001b[38;5;124mpyLindblad\u001b[39m\u001b[38;5;124m'\u001b[39m)\n",
      "\u001b[1;31mNameError\u001b[0m: name 'U' is not defined"
     ]
    }
   ],
   "source": [
    "system_series = qmeq.Builder(nsingle=n, hsingle=h, coulomb=U, nleads=nleads,\n",
    "                         mulst=mulst, tlst=tlst, tleads=tleads, dband=1e4, countingleads=[0,1], kerntype='pyLindblad')"
   ]
  },
  {
   "cell_type": "code",
   "execution_count": 30,
   "metadata": {},
   "outputs": [
    {
     "name": "stdout",
     "output_type": "stream",
     "text": [
      "Standard current: [-0.02315679 -0.02315679  0.02315679  0.02315679]\n",
      "Counting currents and noise at the left lead (Lindblad): [-0.04631359  0.14661628]\n"
     ]
    }
   ],
   "source": [
    "system_series.solve()\n",
    "print('Standard current:',system_series.current)\n",
    "print('Counting currents and noise at the left lead (Lindblad):',system_series.current_noise)"
   ]
  },
  {
   "cell_type": "code",
   "execution_count": 31,
   "metadata": {},
   "outputs": [],
   "source": [
    "#double QD in parallell with spin---------------------------------------------\n",
    "epsilon = 500\n",
    "omega = 400\n",
    "n = 4\n",
    "h = {(0,0):epsilon, (1,1):epsilon, (2,2):epsilon, (3,3):epsilon}\n",
    "\n",
    "T = 100\n",
    "nleads = 4\n",
    "mulst = {0:0, 1:0, 2:0, 3:0}\n",
    "tlst = {0:T, 1:T, 2:2*T, 3:2*T}\n",
    "\n",
    "gammaL = 1.5\n",
    "gammaR = .5\n",
    "tL = np.sqrt(gammaL/np.pi/2)\n",
    "tR = np.sqrt(gammaR/np.pi/2)\n",
    "\n",
    "tleads = {(0, 0):tL, (0,2):tL, (1, 1):tL, (1,3):tL, (2,0):tR, (2, 2):tR, (3,1):tR, (3, 3):tR}"
   ]
  },
  {
   "cell_type": "code",
   "execution_count": 32,
   "metadata": {},
   "outputs": [],
   "source": [
    "system_parallell = qmeq.Builder(nsingle=n, hsingle=h, coulomb=U, nleads=nleads,\n",
    "                         mulst=mulst, tlst=tlst, tleads=tleads, dband=1e4, countingleads=[0,1], kerntype='pyLindblad')"
   ]
  },
  {
   "cell_type": "code",
   "execution_count": 33,
   "metadata": {},
   "outputs": [
    {
     "name": "stdout",
     "output_type": "stream",
     "text": [
      "Standard current: [-0.05126652 -0.05126652  0.05126652  0.05126652]\n",
      "Counting currents and noise at the left lead (Lindblad): [-0.10253304  0.11946965]\n"
     ]
    }
   ],
   "source": [
    "system_parallell.solve()\n",
    "print('Standard current:',system_parallell.current)\n",
    "print('Counting currents and noise at the left lead (Lindblad):',system_parallell.current_noise)"
   ]
  }
 ],
 "metadata": {
  "kernelspec": {
   "display_name": "venv",
   "language": "python",
   "name": "python3"
  },
  "language_info": {
   "codemirror_mode": {
    "name": "ipython",
    "version": 3
   },
   "file_extension": ".py",
   "mimetype": "text/x-python",
   "name": "python",
   "nbconvert_exporter": "python",
   "pygments_lexer": "ipython3",
   "version": "3.13.1"
  }
 },
 "nbformat": 4,
 "nbformat_minor": 2
}
