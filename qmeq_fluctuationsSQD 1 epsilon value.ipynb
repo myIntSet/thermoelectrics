{
 "cells": [
  {
   "cell_type": "code",
   "execution_count": 1,
   "metadata": {},
   "outputs": [
    {
     "name": "stdout",
     "output_type": "stream",
     "text": [
      "WARNING: Cannot import Cython compiled modules for the special functions (specfunc.__init__.py).\n",
      "WARNING: Cannot import Cython compiled modules for the approaches (builder_base.py).\n",
      "WARNING: Cannot import Cython compiled modules for the approaches (builder_elph.py).\n"
     ]
    }
   ],
   "source": [
    "import sys\n",
    "sys.path.append('/../QmeQ/qmeq/')\n",
    "#sys.path.append('../qmeq/')\n",
    "import qmeq\n",
    "import numpy as np\n",
    "import matplotlib.pyplot as plt"
   ]
  },
  {
   "cell_type": "code",
   "execution_count": 2,
   "metadata": {},
   "outputs": [],
   "source": [
    "#DEFINING MY FUNCTIONS\n",
    "\n",
    "def fermi(mu, E, T):\n",
    "    return 1/(1+np.exp((E-mu)/T))\n",
    "\n",
    "def calculate_current(epsilon, mu_L, mu_R, gammaL, gammaR, T_L, T_R):\n",
    "\n",
    "    fL = fermi(mu_L, epsilon, T_L)\n",
    "    fR = fermi(mu_R, epsilon, T_R)\n",
    "\n",
    "    W_1_0 = gammaL*fL+gammaR*fR\n",
    "    W_0_1 = gammaL*(1-fL)+ gammaR*(1-fR)\n",
    "    Wsum = W_0_1 + W_1_0\n",
    "    P_0 = W_0_1/Wsum\n",
    "    P_1 = W_1_0/Wsum\n",
    "\n",
    "    I = -(gammaR*fR*P_0 - gammaR*(1-fR)*P_1)\n",
    "\n",
    "    #------------------calculate cumulants---------------------\n",
    "\n",
    "    I_mean = gammaL*gammaR*(fL-fR)/(gammaL+gammaR)\n",
    "    I_var =  gammaL*gammaR*((gammaL**2+gammaR**2)*(fL+fR-2*fL*fR)+2*gammaL*gammaR*(fL*(1-fL)+fR*(1-fR)))/((gammaL+gammaR)**3)\n",
    "    #(Not actually exactly variance apparently...)\n",
    "\n",
    "    return I, I_mean, I_var\n",
    "\n",
    "def calculate_heat_current(I, epsilon, mu):\n",
    "    E = epsilon*I\n",
    "    Q = E-mu*I\n",
    "    return Q"
   ]
  },
  {
   "cell_type": "code",
   "execution_count": 3,
   "metadata": {},
   "outputs": [],
   "source": [
    "#--SETUP: ---------------------------------------------------------------------------------\n",
    "epsilon = 20\n",
    "V_B = 30\n",
    "mu_L = -V_B/2       \n",
    "mu_R = V_B/2        \n",
    "\n",
    "gammaL = 0.3\n",
    "gammaR = gammaL\n",
    "T_L = 20\n",
    "T_R = 1"
   ]
  },
  {
   "cell_type": "code",
   "execution_count": 4,
   "metadata": {},
   "outputs": [],
   "source": [
    "#--------------------QmeQ parameters----------------------------------\n",
    "\n",
    "tL = np.sqrt(gammaL/np.pi/2)\n",
    "tR = np.sqrt(gammaR/np.pi/2)\n",
    "\n",
    "n = 1 #single resonant energy level\n",
    "h = {(0,0):epsilon}\n",
    "\n",
    "nleads = 2\n",
    "mulst = {0:mu_L, 1:mu_R}\n",
    "tlst = {0:T_L, 1:T_R}\n",
    "tleads = {(0, 0):tL, (1, 0):tR}"
   ]
  },
  {
   "cell_type": "code",
   "execution_count": 5,
   "metadata": {},
   "outputs": [
    {
     "name": "stdout",
     "output_type": "stream",
     "text": [
      "QmeQ Standard current: [ 0.02120315 -0.02120315]\n",
      "QmeQ Counting currents and noise at the left lead (Pauli): [0.02120315 0.02141517]\n",
      "System sucess: True\n",
      "\n",
      "MY: standard current: 0.02120315206611069\n",
      "MY:Counting currents and noise at the left lead (Pauli): 0.02141517113707885\n"
     ]
    }
   ],
   "source": [
    "#CALCULATING CURRENT AND NOISE USING QMEQ/MY FUNCTIONS\n",
    "#------------------------------------------------------------------------------------------\n",
    "\n",
    "#CALCULATING USING QMEQ---------------------------------------------------------------------\n",
    "system = qmeq.Builder(nsingle=n, hsingle=h, nleads=nleads,\n",
    "                         mulst=mulst, tlst=tlst, tleads=tleads, dband=1e4, countingleads=[0], kerntype='pyPauli')\n",
    "\n",
    "system.solve()\n",
    "print('QmeQ Standard current:',system.current)\n",
    "print('QmeQ Counting currents and noise at the left lead (Pauli):', system.current_noise)\n",
    "print('System sucess:',system.success)\n",
    "print('')\n",
    "\n",
    "#CALCULATING USING MY FUNCTIONS-----------------------------------------------------------------\n",
    "INPUT = {'epsilon': epsilon,         \n",
    "            'mu_L': mu_L,\n",
    "            'mu_R': mu_R,\n",
    "            'gammaL': gammaL,                   # gamma in left lead\n",
    "            'gammaR': gammaR,                 # gamma in right lead\n",
    "            'T_L': T_L,          # Temperature in left lead\n",
    "            'T_R': T_R}                    # Temperature in right lead\n",
    "\n",
    "I, I_mean, I_var = calculate_current(**INPUT)\n",
    "\n",
    "print('MY: standard current:',I)\n",
    "print('MY:Counting currents and noise at the left lead (Pauli):', I_var)\n"
   ]
  }
 ],
 "metadata": {
  "kernelspec": {
   "display_name": "venv",
   "language": "python",
   "name": "python3"
  },
  "language_info": {
   "codemirror_mode": {
    "name": "ipython",
    "version": 3
   },
   "file_extension": ".py",
   "mimetype": "text/x-python",
   "name": "python",
   "nbconvert_exporter": "python",
   "pygments_lexer": "ipython3",
   "version": "3.13.1"
  }
 },
 "nbformat": 4,
 "nbformat_minor": 2
}
