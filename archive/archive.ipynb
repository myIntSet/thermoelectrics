{
 "cells": [
  {
   "cell_type": "code",
   "execution_count": 1,
   "metadata": {},
   "outputs": [
    {
     "name": "stdout",
     "output_type": "stream",
     "text": [
      "WARNING: Cannot import Cython compiled modules for the special functions (specfunc.__init__.py).\n",
      "WARNING: Cannot import Cython compiled modules for the approaches (builder_base.py).\n",
      "WARNING: Cannot import Cython compiled modules for the approaches (builder_elph.py).\n"
     ]
    }
   ],
   "source": [
    "import sys\n",
    "sys.path.append('/../../QmeQ/qmeq/')\n",
    "#sys.path.append('../qmeq/')\n",
    "import qmeq\n",
    "import numpy as np"
   ]
  },
  {
   "cell_type": "code",
   "execution_count": 2,
   "metadata": {},
   "outputs": [],
   "source": [
    "#--SETUP: ---------------------------------------------------------------------------------\n",
    "epsilons = np.linspace(-100, 100, 10)\n",
    "omega = 0.105\n",
    "u_intra = 500\n",
    "u_inter = 300\n",
    "V_B = 50\n",
    "mu_L = -V_B/2       \n",
    "mu_R = V_B/2        \n",
    "\n",
    "gammaL = 0.1\n",
    "gammaR = gammaL\n",
    "tL = np.sqrt(gammaL/np.pi/2)\n",
    "tR = np.sqrt(gammaR/np.pi/2)\n",
    "T_L = 10\n",
    "T_R = 1\n",
    "n = 4\n",
    "nleads = 4\n",
    "\n",
    "U = {(0,1,1,0):u_intra, (2,3,3,2):u_intra, (0,2,2,0):u_inter, (0,3,3,0):u_inter, (1,2,2,1):u_inter, (1,3,3,1):u_inter } \n",
    "mulst = {0:mu_L, 1:mu_L, 2:mu_R, 3:mu_R}\n",
    "tlst = {0:T_L, 1:T_L, 2:T_R, 3:T_R}\n",
    "\n",
    "if T_L < T_R:\n",
    "    raise SystemExit(\"Not my convention! (T_L < T_R) so cell was shut down\")\n",
    "elif T_L > T_R:\n",
    "    T_COLD = T_R\n",
    "    T_HOT = T_L\n",
    "elif T_L == T_R:\n",
    "    raise SystemExit(\"Not a heat engine (T_L = T_R) so cell was shut down\")"
   ]
  },
  {
   "cell_type": "code",
   "execution_count": 3,
   "metadata": {},
   "outputs": [
    {
     "name": "stdout",
     "output_type": "stream",
     "text": [
      "IN SERIES: Standard current: [ 6.45327834e-25  6.45327834e-25 -6.45327834e-25 -6.45327834e-25]\n",
      "IN SERIES: Counting currents and noise at the left lead (Lindblad): [1.29065567e-24 1.29065567e-24]\n",
      "IN PARALLEL: Standard current: [ 1.58321429e-24  1.58321429e-24 -1.58321429e-24 -1.58321429e-24]\n",
      "IN PARALLEL: Counting currents and noise at the left lead (Lindblad): [3.16642857e-24 3.16642857e-24]\n"
     ]
    }
   ],
   "source": [
    "eps = 500\n",
    "#double QD in series (with spin) ==============================================================================================================\n",
    "h = {(0,0):eps, (1,1):eps, (2,2):eps, (3,3):eps, (0,2):omega, (1,3):omega} # <-------/// Här skiljer dom sig ! ///----\n",
    "tleads = {(0, 0):tL, (1, 1):tL, (2, 2):tR, (3, 3):tR} # <------/// Här skiljer dom sig ! ///----\n",
    "\n",
    "system_parallell = qmeq.Builder(nsingle=n, hsingle=h, coulomb=U, nleads=nleads,\n",
    "                         mulst=mulst, tlst=tlst, tleads=tleads, dband=1e4, countingleads=[0,1], kerntype='pyLindblad')\n",
    "system_parallell.solve()\n",
    "print('IN SERIES: Standard current:',system_parallell.current)\n",
    "print('IN SERIES: Counting currents and noise at the left lead (Lindblad):',system_parallell.current_noise)\n",
    "\n",
    "#double QD in parallel (with spin) ===========================================================================================================\n",
    "h = {(0,0):eps, (1,1):eps, (2,2):eps, (3,3):eps} # <------/// Här skiljer dom sig ! ///-----\n",
    "tleads = {(0, 0):tL, (1, 1):tL, (2, 2):tR, (3, 3):tR, (0,2):tL, (1,3):tL, (2,0):tR, (3,1):tR} # <-------/// Här skiljer dom sig ! ///----\n",
    "#============================================================================================================================================\n",
    "\n",
    "system_parallell = qmeq.Builder(nsingle=n, hsingle=h, coulomb=U, nleads=nleads,\n",
    "                         mulst=mulst, tlst=tlst, tleads=tleads, dband=1e4, countingleads=[0,1], kerntype='pyLindblad')\n",
    "system_parallell.solve()\n",
    "print('IN PARALLEL: Standard current:',system_parallell.current)\n",
    "print('IN PARALLEL: Counting currents and noise at the left lead (Lindblad):',system_parallell.current_noise)"
   ]
  },
  {
   "cell_type": "code",
   "execution_count": 4,
   "metadata": {},
   "outputs": [
    {
     "name": "stdout",
     "output_type": "stream",
     "text": [
      "1:\n",
      "xv [[0.  0.  0. ]\n",
      " [1.5 1.5 1.5]\n",
      " [3.  3.  3. ]]\n",
      "yv [[0.         0.99749499 0.14112001]\n",
      " [0.         0.99749499 0.14112001]\n",
      " [0.         0.99749499 0.14112001]]\n",
      "2:\n",
      "xv [[0.  1.5 3. ]\n",
      " [0.  1.5 3. ]\n",
      " [0.  1.5 3. ]]\n",
      "yv [[0.         0.         0.        ]\n",
      " [0.99749499 0.99749499 0.99749499]\n",
      " [0.14112001 0.14112001 0.14112001]]\n"
     ]
    }
   ],
   "source": [
    "x = np.linspace(0,3, 3)\n",
    "y = np.sin(x)\n",
    "\n",
    "\n",
    "xv, yv = np.meshgrid(x, y, indexing='ij')\n",
    "print('1:')\n",
    "print('xv',xv)\n",
    "print('yv',yv)\n",
    "\n",
    "xv, yv = np.meshgrid(x, y, indexing='xy')\n",
    "print('2:')\n",
    "print('xv',xv)\n",
    "print('yv',yv)\n"
   ]
  }
 ],
 "metadata": {
  "kernelspec": {
   "display_name": "venv",
   "language": "python",
   "name": "python3"
  },
  "language_info": {
   "codemirror_mode": {
    "name": "ipython",
    "version": 3
   },
   "file_extension": ".py",
   "mimetype": "text/x-python",
   "name": "python",
   "nbconvert_exporter": "python",
   "pygments_lexer": "ipython3",
   "version": "3.13.1"
  }
 },
 "nbformat": 4,
 "nbformat_minor": 2
}
