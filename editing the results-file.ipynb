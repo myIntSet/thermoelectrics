{
 "cells": [
  {
   "cell_type": "code",
   "execution_count": 11,
   "metadata": {},
   "outputs": [],
   "source": [
    "import numpy as np\n",
    "import pandas as pd\n",
    "import matplotlib.pyplot as plt\n",
    "from mpl_toolkits.mplot3d import Axes3D\n",
    "import plotly.graph_objects as go\n",
    "import importlib\n",
    "\n",
    "import interpolation_runner as ip\n",
    "import file_handler as fh"
   ]
  },
  {
   "cell_type": "code",
   "execution_count": 17,
   "metadata": {},
   "outputs": [
    {
     "name": "stdout",
     "output_type": "stream",
     "text": [
      "     epsilon_L  epsilon_R    lambda       TUR         I     I_var      J_QH  \\\n",
      "116  33.333333  34.333333  1.000000  3.292137  0.000521  0.000584  0.030650   \n",
      "236  33.333333  34.333333  1.000000  3.292144  0.000534  0.000598  0.031400   \n",
      "226  33.333333  34.333333  0.909091  3.298091  0.000483  0.000540  0.028409   \n",
      "106  33.333333  34.333333  0.909091  3.298879  0.000471  0.000527  0.027728   \n",
      "126  33.333333  34.333333  0.000000  3.299658  0.000011  0.000013  0.000657   \n",
      "\n",
      "            P       eff     sigma  omega  u_intra  u_inter  V_B  gammaL  \\\n",
      "116  0.026053  0.850032  0.001532  0.105      500      300   50     0.1   \n",
      "236  0.026691  0.850032  0.001569  0.105      500      300   50     0.1   \n",
      "226  0.024145  0.849910  0.001423  0.105      500      300   50     0.1   \n",
      "106  0.023566  0.849893  0.001389  0.105      500      300   50     0.1   \n",
      "126  0.000558  0.850227  0.000033  0.105      500      300   50     0.1   \n",
      "\n",
      "     gammaR  T_L  T_R  \n",
      "116   0.100   10    1  \n",
      "236   0.105   10    1  \n",
      "226   0.105   10    1  \n",
      "106   0.100   10    1  \n",
      "126   0.105   10    1  \n"
     ]
    }
   ],
   "source": [
    "df = pd.read_csv('results.csv')\n",
    "# Get the 10 lowest TUR values\n",
    "#lowest_tur_rows = df.nsmallest(20, 'TUR')\n",
    "\n",
    "#print(lowest_tur_rows)\n",
    "print(df.nsmallest(5, 'TUR'))"
   ]
  },
  {
   "cell_type": "code",
   "execution_count": 13,
   "metadata": {},
   "outputs": [],
   "source": [
    "#df.rename(columns={\"old_column_name\": \"new_column_name\"}, inplace=True)\n",
    "\n",
    "df.rename(columns={\"epsilon\": \"epsilon_L\"}, inplace=True)"
   ]
  },
  {
   "cell_type": "code",
   "execution_count": 14,
   "metadata": {},
   "outputs": [],
   "source": [
    "#ADD A NEW COLUMN AND COPY VALUES FROM EPSILON_L + 1\n",
    "\n",
    "#df[\"new_column\"] = df[\"existing_column\"] + 1\n",
    "df[\"epsilon_R\"] = df[\"epsilon_L\"] + 1\n"
   ]
  },
  {
   "cell_type": "code",
   "execution_count": 15,
   "metadata": {},
   "outputs": [
    {
     "name": "stdout",
     "output_type": "stream",
     "text": [
      "     epsilon_L  epsilon_R    lambda       TUR         I     I_var      J_QH  \\\n",
      "116  33.333333  34.333333  1.000000  3.292137  0.000521  0.000584  0.030650   \n",
      "236  33.333333  34.333333  1.000000  3.292144  0.000534  0.000598  0.031400   \n",
      "226  33.333333  34.333333  0.909091  3.298091  0.000483  0.000540  0.028409   \n",
      "106  33.333333  34.333333  0.909091  3.298879  0.000471  0.000527  0.027728   \n",
      "126  33.333333  34.333333  0.000000  3.299658  0.000011  0.000013  0.000657   \n",
      "\n",
      "            P       eff     sigma  omega  u_intra  u_inter  V_B  gammaL  \\\n",
      "116  0.026053  0.850032  0.001532  0.105      500      300   50     0.1   \n",
      "236  0.026691  0.850032  0.001569  0.105      500      300   50     0.1   \n",
      "226  0.024145  0.849910  0.001423  0.105      500      300   50     0.1   \n",
      "106  0.023566  0.849893  0.001389  0.105      500      300   50     0.1   \n",
      "126  0.000558  0.850227  0.000033  0.105      500      300   50     0.1   \n",
      "\n",
      "     gammaR  T_L  T_R  \n",
      "116   0.100   10    1  \n",
      "236   0.105   10    1  \n",
      "226   0.105   10    1  \n",
      "106   0.100   10    1  \n",
      "126   0.105   10    1  \n"
     ]
    }
   ],
   "source": [
    "#Changing order of the columns\n",
    "\n",
    "col = df.pop(\"epsilon_R\")  # Remove the column\n",
    "df.insert(1, \"epsilon_R\", col)  # Insert it at index 1 (second position)\n",
    "\n",
    "print(df.nsmallest(5, 'TUR'))"
   ]
  },
  {
   "cell_type": "code",
   "execution_count": 16,
   "metadata": {},
   "outputs": [
    {
     "name": "stdout",
     "output_type": "stream",
     "text": [
      "Saved to a new results file\n"
     ]
    }
   ],
   "source": [
    "\n",
    "print(\"Saved to a new results file\")\n",
    "df.to_csv('results.csv', index=False)"
   ]
  }
 ],
 "metadata": {
  "kernelspec": {
   "display_name": "venv",
   "language": "python",
   "name": "python3"
  },
  "language_info": {
   "codemirror_mode": {
    "name": "ipython",
    "version": 3
   },
   "file_extension": ".py",
   "mimetype": "text/x-python",
   "name": "python",
   "nbconvert_exporter": "python",
   "pygments_lexer": "ipython3",
   "version": "3.13.1"
  }
 },
 "nbformat": 4,
 "nbformat_minor": 2
}
