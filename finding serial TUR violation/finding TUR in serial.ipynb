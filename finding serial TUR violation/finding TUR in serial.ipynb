{
 "cells": [
  {
   "cell_type": "code",
   "execution_count": 8,
   "metadata": {},
   "outputs": [],
   "source": [
    "import numpy as np\n",
    "import pandas as pd\n",
    "import matplotlib.pyplot as plt\n",
    "import importlib\n",
    "\n",
    "import sys\n",
    "sys.path.append('/../../temp_prog/')\n",
    "import vb_epsilon_sweeper as vs\n",
    "import tur_calculator as tc"
   ]
  },
  {
   "cell_type": "code",
   "execution_count": 9,
   "metadata": {},
   "outputs": [],
   "source": [
    "#SÖKA EFTER TUR VIOLATIONS IN SERIAL DOT EFTER SEGAL PAPER\n",
    "\n",
    "#--SETUP: ---------------------------------------------------------------------------------\n",
    "VBs = np.linspace(0,0.2, 20) # np.linspace(-10000,10000, 100)\n",
    "epsilons = np.linspace(-0.8, 0.8, 20) # np.linspace(-6000, 6000, 10)\n",
    "#T = 1\n",
    "T_L = 2.5 #100\n",
    "T_R = 1 #T_L\n",
    "\n",
    "INPUT = {\n",
    "    'omega': 0.005, #1000\n",
    "    'u_intra': 0, #2000\n",
    "    'u_inter': 0, #1000\n",
    "    'gammaL': 0.005, #0.5\n",
    "    'gammaR': 0.005, #0.5\n",
    "    'T_L': T_L,\n",
    "    'T_R': T_R,\n",
    "}\n",
    "\n",
    "#--SETUP: ---------------------------------------------------------------------------------\n",
    "\n",
    "importlib.reload(vs)\n",
    "I, I_var, J_QH, P, P_0 = vs.run_sweep(VBs, epsilons, **INPUT)"
   ]
  },
  {
   "cell_type": "code",
   "execution_count": null,
   "metadata": {},
   "outputs": [
    {
     "name": "stdout",
     "output_type": "stream",
     "text": [
      "[ 1.9994975   1.99951012  1.99952246  1.99954747  1.99954797  1.99957404\n",
      "  1.99958534  1.99960068  1.99962378  1.99962793  1.9996558   1.99966286\n",
      "  1.99967378  1.99967642  1.99968434  1.99968537  1.99969511  1.99970265\n",
      "  1.99970563  1.99971357  1.99971692  1.99972219  1.99972898  1.99974183\n",
      "  1.99974325  1.99974355  1.99975545  1.99976985  1.99977155  1.99977433\n",
      "  1.99978475  1.99978506  1.99980107  1.99980598  1.9998179   1.99982203\n",
      "  1.99982729  1.99983559  1.99983858  1.99985415  1.999871    1.99987221\n",
      "  1.99987361  1.99987384  1.99989402  1.99990698  1.99991543  1.99991605\n",
      "  1.99992719  1.99993788  1.99994302  1.99996145  1.99996265  1.99997288\n",
      "  1.99998047  1.99998236  2.00001102  2.00001951  2.00002931  2.00002935\n",
      "  2.00003031  2.00003042  2.00003236  2.00003254  2.00003545  2.0000357\n",
      "  2.00003644  2.00003961  2.00003967  2.00003991  2.00004483  2.00004518\n",
      "  2.00005114  2.00005151  2.00005892  2.00006033  2.00006145  2.00006741\n",
      "  2.000077    2.0000877   2.0000995   2.00009952  2.00010273  2.00011425\n",
      "  2.0001623   2.00016982  2.00017229  2.00022861  2.00022862  2.00024575\n",
      "  2.0002912   2.00029909  2.00032389  2.00035823  2.00037452  2.00040764\n",
      "  2.00045588  2.00045684  2.00049815  2.00054435  2.00055681  2.00059686\n",
      "  2.0006414   2.00066635  2.00070554  2.00074887  2.00078761  2.00082644\n",
      "  2.00086907  2.00092337  2.00096241  2.00100496  2.00107716  2.00111713\n",
      "  2.00125363  2.00129543  2.0014172   2.00145889  2.00150368  2.00165491\n",
      "  2.00170118  2.00175047  2.00193899  2.00199178  2.00204764  2.00228446\n",
      "  2.00234649  2.00241177  2.00271279  2.00278793  2.00286675  2.00325551\n",
      "  2.00334948  2.0039604   2.00408203  2.00474735  2.00490279  2.00506623\n",
      "  2.00598985  2.00620694  2.00643613  2.00777161  2.00808987  2.00842806\n",
      "  2.01046294  2.01095883  2.01149069  2.01481541  2.01565291  2.01656326\n",
      "  2.02255212  2.02413683  2.03838198  2.0419532   2.070263    2.07932426\n",
      "  2.09025813  2.20306991  2.25072134  2.31734699  4.25648785  7.07887202\n",
      " 22.33680178]\n"
     ]
    }
   ],
   "source": [
    "importlib.reload(tc)\n",
    "TUR, eff_carnot, eff, sigma = tc.calculate_tur(T_L=T_L, T_R=T_R, I=I, I_var=I_var, J_QH=J_QH, P=P)\n",
    "print(np.sort(TUR[~np.isnan(TUR)]))\n"
   ]
  },
  {
   "cell_type": "code",
   "execution_count": 22,
   "metadata": {},
   "outputs": [],
   "source": [
    "#////////////////////////////////////SÖKA EFTER TUR VIOLATIONS IN SERIAL DOT EFTER ENTANGLEMENT PAPER////////////////////////////////////////////////\n",
    "\n",
    "#--SETUP: ---------------------------------------------------------------------------------\n",
    "VBs = np.linspace(-500,500, 20) # np.linspace(-10000,10000, 100)\n",
    "epsilons = np.linspace(-800, 800, 20) # np.linspace(-6000, 6000, 10)\n",
    "#T = 100\n",
    "T_L = 150 #100\n",
    "T_R = 100 #T_L\n",
    "\n",
    "INPUT = {\n",
    "    'omega': 0.4, #1000\n",
    "    'u_intra': 1000, #2000\n",
    "    'u_inter': 700, #1000\n",
    "    'gammaL': 1, #0.5\n",
    "    'gammaR': 1, #0.5\n",
    "    'T_L': T_L,\n",
    "    'T_R': T_R,\n",
    "}\n",
    "\n",
    "#--SETUP: ---------------------------------------------------------------------------------\n",
    "\n",
    "importlib.reload(vs)\n",
    "I, I_var, J_QH, P, P_0 = vs.run_sweep(VBs, epsilons, **INPUT)"
   ]
  },
  {
   "cell_type": "code",
   "execution_count": null,
   "metadata": {},
   "outputs": [
    {
     "name": "stdout",
     "output_type": "stream",
     "text": [
      "[2.01595629e+00 2.03133497e+00 2.04274816e+00 2.05111830e+00\n",
      " 2.05470659e+00 2.06437267e+00 2.06869055e+00 2.07788025e+00\n",
      " 2.07886371e+00 2.08240141e+00 2.10802643e+00 2.11645107e+00\n",
      " 2.11990185e+00 2.15799992e+00 2.15836461e+00 2.18416216e+00\n",
      " 2.19807261e+00 2.20588165e+00 2.22581469e+00 2.26158410e+00\n",
      " 2.31730648e+00 2.34844383e+00 2.36424609e+00 2.38852873e+00\n",
      " 2.45924758e+00 2.52486902e+00 2.62036368e+00 2.70244664e+00\n",
      " 2.89423405e+00 3.63146241e+00 8.97159150e+00 9.32795261e+00\n",
      " 1.82319267e+01 1.93667409e+01 3.06130673e+01 6.09351092e+01\n",
      " 4.82326576e+02 4.09579571e+03]\n"
     ]
    }
   ],
   "source": [
    "#Beräkna TUR\n",
    "importlib.reload(tc)\n",
    "TUR, eff_carnot, eff, sigma = tc.calculate_tur(T_L=T_L, T_R=T_R, I=I, I_var=I_var, J_QH=J_QH, P=P)\n",
    "print(np.sort(TUR[~np.isnan(TUR)]))\n"
   ]
  },
  {
   "cell_type": "code",
   "execution_count": 24,
   "metadata": {},
   "outputs": [],
   "source": [
    "#HITTAT TUR VIOLATIONS IN SERIAL DOT EFTER SEGAL PAPER + ENTANGLEMENT PAPER!\n",
    "\n",
    "#--SETUP: ---------------------------------------------------------------------------------\n",
    "VBs = np.linspace(0,0.2, 20) # np.linspace(-10000,10000, 100)\n",
    "epsilons = np.linspace(-0.8, 0.8, 20) # np.linspace(-6000, 6000, 10)\n",
    "#T = 1\n",
    "T_L = 2.5 #100\n",
    "T_R = 1 #T_L\n",
    "\n",
    "INPUT = {\n",
    "    'omega': 0.002, #1000\n",
    "    'u_intra': 1000, #2000\n",
    "    'u_inter': 800, #1000\n",
    "    'gammaL': 0.005, #0.5\n",
    "    'gammaR': 0.005, #0.5\n",
    "    'T_L': T_L,\n",
    "    'T_R': T_R,\n",
    "}\n",
    "\n",
    "#--SETUP: ---------------------------------------------------------------------------------\n",
    "\n",
    "importlib.reload(vs)\n",
    "I, I_var, J_QH, P, P_0 = vs.run_sweep(VBs, epsilons, **INPUT)"
   ]
  },
  {
   "cell_type": "code",
   "execution_count": null,
   "metadata": {},
   "outputs": [
    {
     "name": "stdout",
     "output_type": "stream",
     "text": [
      "[1.98614775 1.98656439 1.98697531 1.98738049 1.98777989 1.98817348\n",
      " 1.98856123 1.98878639 1.9889431  1.98916821 1.98931908 1.98954394\n",
      " 1.98968912 1.98991355 1.9900532  1.99027702 1.9904113  1.99063433\n",
      " 1.99076338 1.99098544 1.99110942 1.9912477  1.99133035 1.9914494\n",
      " 1.99158978 1.99166901 1.99178329 1.99192548 1.99200143 1.99211107\n",
      " 1.99225479 1.99232757 1.99243271 1.99257769 1.99264742 1.99274821\n",
      " 1.99289417 1.99296096 1.99320422 1.99326818 1.99347534 1.99350782\n",
      " 1.99356906 1.99377385 1.99380497 1.99386359 1.99406581 1.99409566\n",
      " 1.99415176 1.99435124 1.99437988 1.99443357 1.99463012 1.99465763\n",
      " 1.99470901 1.99490246 1.99492892 1.99516827 1.99519373 1.99542454\n",
      " 1.99542756 1.9954521  1.99567706 1.99568033 1.99570401 1.99592305\n",
      " 1.99592662 1.9959495  1.99616254 1.99616643 1.99618858 1.99639556\n",
      " 1.99639981 1.99642128 1.99662215 1.99662678 1.99684236 1.9968474\n",
      " 1.99705624 1.99706172 1.99706578 1.99726386 1.99726981 1.99727198\n",
      " 1.99746531 1.99747175 1.99747202 1.99766069 1.99766599 1.99766766\n",
      " 1.99785013 1.99785401 1.99785764 1.99803376 1.99803624 1.99821178\n",
      " 1.99821285 1.99838406 1.99838442 1.99839318 1.99855015 1.99855196\n",
      " 1.99855707 1.99871146 1.99871476 1.99871618 1.99886842 1.99887093\n",
      " 1.99887325 1.99902158 1.99902183 1.99902802 1.99916957 1.99917163\n",
      " 1.99931501 1.99931951 1.99945751 1.99945932 1.99946643 1.99959889\n",
      " 1.99960404 1.99961402 1.99974247 1.9997513  1.99976454 1.99989104\n",
      " 1.99990406 1.99992114 2.00004859 2.00006657 2.00008836 2.00022093\n",
      " 2.00024507 2.00041691 2.00044911 2.00061127 2.00065042 2.00069377\n",
      " 2.0008897  2.0009444  2.00100412 2.0012602  2.00133888 2.00142437\n",
      " 2.00179011 2.00190895 2.00203838 2.00261611 2.0028093  2.00302172\n",
      " 2.00405148 2.00440207 2.00695227 2.00770874 2.01259065 2.01441207\n",
      " 2.01662789 2.03641694 2.0455781  2.05848474 2.40472542 2.92347428\n",
      " 5.74953864]\n"
     ]
    }
   ],
   "source": [
    "#Beräkna TUR\n",
    "importlib.reload(tc)\n",
    "TUR, eff_carnot, eff, sigma = tc.calculate_tur(T_L=T_L, T_R=T_R, I=I, I_var=I_var, J_QH=J_QH, P=P)\n",
    "print(np.sort(TUR[~np.isnan(TUR)]))\n"
   ]
  },
  {
   "cell_type": "code",
   "execution_count": 27,
   "metadata": {},
   "outputs": [],
   "source": [
    "#(HITTAT) STÖRRE TUR VIOLATIONS IN SERIAL DOT EFTER SEGAL PAPER\n",
    "\n",
    "#--SETUP: ---------------------------------------------------------------------------------\n",
    "VBs = np.linspace(0,8, 20) # np.linspace(-10000,10000, 100)\n",
    "epsilons = np.linspace(-8, 8, 20) # np.linspace(-6000, 6000, 10)\n",
    "#T = 1\n",
    "T_L = 2.5 #100\n",
    "T_R = 1 #T_L\n",
    "\n",
    "INPUT = {\n",
    "    'omega': 0.002, #1000\n",
    "    'u_intra': 1000, #2000\n",
    "    'u_inter': 800, #1000\n",
    "    'gammaL': 0.005, #0.5\n",
    "    'gammaR': 0.005, #0.5\n",
    "    'T_L': T_L,\n",
    "    'T_R': T_R,\n",
    "}\n",
    "\n",
    "#--SETUP: ---------------------------------------------------------------------------------\n",
    "\n",
    "importlib.reload(vs)\n",
    "I, I_var, J_QH, P, P_0 = vs.run_sweep(VBs, epsilons, **INPUT)"
   ]
  },
  {
   "cell_type": "code",
   "execution_count": 29,
   "metadata": {},
   "outputs": [
    {
     "name": "stdout",
     "output_type": "stream",
     "text": [
      "[1.98338749 1.98833843 1.98961346 1.99602012 1.99853519 2.00055335\n",
      " 2.00073315 2.00167328 2.00209216 2.00212967 2.00414373 2.00424714\n",
      " 2.00436209 2.00822256 2.01227619 2.01252571 2.01332704 2.014488\n",
      " 2.02165228 2.02933386 2.03038979 2.03365235 2.03846969 2.04314221\n",
      " 2.04370478 2.05347271 2.06649077 2.0682447  2.08137714 2.08790068\n",
      " 2.0913785  2.09492778 2.11137397 2.14036973 2.14859704 2.15642757\n",
      " 2.16549074 2.1663291  2.16796958 2.22441601 2.23538624 2.23689146\n",
      " 2.25433333 2.25437592 2.26216773 2.31401213 2.35625333 2.35989441\n",
      " 2.37361355 2.37727021 2.41564802 2.48024204 2.49656516 2.50965961\n",
      " 2.51219222 2.5273307  2.61320075 2.65570572 2.6571236  2.66793321\n",
      " 2.75646668 2.81732182 2.83142147 2.83852938 2.90770574 2.98787792\n",
      " 3.02141439 3.02163391 3.1664539  3.2149327  3.2234148  3.35080597\n",
      " 3.41619916 3.43523745 3.62333212 3.65482072 3.83437871 3.8802505\n",
      " 4.10977114 4.34178608]\n"
     ]
    }
   ],
   "source": [
    "#Beräkna TUR\n",
    "importlib.reload(tc)\n",
    "TUR, eff_carnot, eff, sigma = tc.calculate_tur(T_L=T_L, T_R=T_R, I=I, I_var=I_var, J_QH=J_QH, P=P)\n",
    "print(np.sort(TUR[~np.isnan(TUR)]))"
   ]
  },
  {
   "cell_type": "code",
   "execution_count": 44,
   "metadata": {},
   "outputs": [],
   "source": [
    "#(HITTAT) STÖRRE TUR VIOLATIONS IN SERIAL DOT EFTER SEGAL PAPER HÖGRE UPPLÖSNING!\n",
    "VBs = np.linspace(0,8, 100) # np.linspace(-10000,10000, 100)\n",
    "epsilons = np.linspace(-9, 9, 100) # np.linspace(-6000, 6000, 10)\n",
    "#--SETUP: ---------------------------------------------------------------------------------\n",
    "VBs = np.linspace(0,8, 100) # np.linspace(-10000,10000, 100)\n",
    "epsilons = np.linspace(-9, 9, 100) # np.linspace(-6000, 6000, 10)\n",
    "#T = 1\n",
    "T_L = 2.5 #100\n",
    "T_R = 1 #T_L\n",
    "\n",
    "INPUT = {\n",
    "    'omega': 0.002, #1000\n",
    "    'u_intra': 1000, #2000\n",
    "    'u_inter': 800, #1000\n",
    "    'gammaL': 0.005, #0.5\n",
    "    'gammaR': 0.005, #0.5\n",
    "    'T_L': T_L,\n",
    "    'T_R': T_R,\n",
    "}\n",
    "\n",
    "#--SETUP: ---------------------------------------------------------------------------------\n",
    "\n",
    "importlib.reload(vs)\n",
    "I, I_var, J_QH, P, P_0 = vs.run_sweep(VBs, epsilons, **INPUT)"
   ]
  },
  {
   "cell_type": "code",
   "execution_count": 45,
   "metadata": {},
   "outputs": [
    {
     "name": "stdout",
     "output_type": "stream",
     "text": [
      "[1.96941951 1.96968589 1.97197786 ... 5.06642308 5.11460074 5.16276608]\n"
     ]
    },
    {
     "name": "stderr",
     "output_type": "stream",
     "text": [
      "c:\\../../temp_prog\\tur_calculator.py:16: RuntimeWarning: invalid value encountered in divide\n",
      "  sigma = P*(1/T_COLD)*(eff_carnot-eff)/eff\n"
     ]
    }
   ],
   "source": [
    "#Beräkna TUR\n",
    "importlib.reload(tc)\n",
    "TUR, eff_carnot, eff, sigma = tc.calculate_tur(T_L=T_L, T_R=T_R, I=I, I_var=I_var, J_QH=J_QH, P=P)\n",
    "print(np.sort(TUR[~np.isnan(TUR)]))"
   ]
  },
  {
   "cell_type": "code",
   "execution_count": 46,
   "metadata": {},
   "outputs": [],
   "source": [
    "Epsilon, VB = np.meshgrid(epsilons, VBs)"
   ]
  },
  {
   "cell_type": "code",
   "execution_count": 47,
   "metadata": {},
   "outputs": [],
   "source": [
    "unique_sorted_values = np.unique(TUR)\n",
    "\n",
    "# Ensure there are at least 20 unique values\n",
    "if len(unique_sorted_values) >= 20:\n",
    "    target_value = unique_sorted_values[19]  # 20th smallest value\n",
    "    \n",
    "    # Get indices of all values up to and including the 20th smallest\n",
    "    indices = np.argwhere(TUR <= target_value)\n",
    "    #print(\"Indices of the 20th smallest and all smaller values:\\n\", indices)\n",
    "else:\n",
    "    print(\"Not enough unique values in the array!\")\n",
    "\n",
    "#print(\"shape TUR\",TUR.shape)\n",
    "#print(\"shape indices\",indices.shape)\n",
    "\n",
    "'''\n",
    "for row in indices:\n",
    "    print(\"TUR: \",TUR[row[0],row[1]])\n",
    "    print(\"Epsilon\", Epsilon[row[0], row[1]])\n",
    "    print(\"VB\", VB[row[0],row[1]])\n",
    "#print(TUR[indices[0,0]][indices[0,1]])\n",
    "'''\n",
    "\n",
    "vio_row = indices[3,0]\n",
    "vio_col =  indices[3,1]\n",
    "#print(TUR[indices[3,0],indices[3,1]])\n",
    "#print(vio_row)\n",
    "#print(vio_col)"
   ]
  },
  {
   "cell_type": "code",
   "execution_count": 48,
   "metadata": {},
   "outputs": [
    {
     "name": "stdout",
     "output_type": "stream",
     "text": [
      "Epsilon: 1.7272727272727284\n",
      "VB: 0.08080808080808081\n"
     ]
    }
   ],
   "source": [
    "print(\"Epsilon:\",Epsilon[vio_row, vio_col])\n",
    "print(\"VB:\",VB[vio_row, vio_col])"
   ]
  },
  {
   "cell_type": "code",
   "execution_count": 49,
   "metadata": {},
   "outputs": [
    {
     "name": "stdout",
     "output_type": "stream",
     "text": [
      "[[0.00026338]]\n",
      "[[2.12830435e-05]]\n"
     ]
    }
   ],
   "source": [
    "#BEKRÄFTA LÄGSTA TUR:\n",
    "\n",
    "#--SETUP: ---------------------------------------------------------------------------------\n",
    "VBs_vio = np.linspace(VB[vio_row, vio_col],VB[vio_row, vio_col], 1) # np.linspace(-10000,10000, 100)\n",
    "epsilons_vio = np.linspace(Epsilon[vio_row, vio_col], Epsilon[vio_row, vio_col], 1) # np.linspace(-6000, 6000, 10)\n",
    "#T = 1\n",
    "T_L = 2.5 #100\n",
    "T_R = 1 #T_L\n",
    "\n",
    "INPUT = {\n",
    "    'omega': 0.002, #1000\n",
    "    'u_intra': 1000, #2000\n",
    "    'u_inter': 800, #1000\n",
    "    'gammaL': 0.005, #0.5\n",
    "    'gammaR': 0.005, #0.5\n",
    "    'T_L': T_L,\n",
    "    'T_R': T_R,\n",
    "}\n",
    "\n",
    "#--SETUP: ---------------------------------------------------------------------------------\n",
    "\n",
    "importlib.reload(vs)\n",
    "I_vio, I_var_vio, J_QH_vio, P_vio, P_0_vio = vs.run_sweep(VBs_vio, epsilons_vio, **INPUT)\n",
    "\n",
    "print(I_vio)\n",
    "print(P_vio)"
   ]
  },
  {
   "cell_type": "code",
   "execution_count": 50,
   "metadata": {},
   "outputs": [
    {
     "name": "stdout",
     "output_type": "stream",
     "text": [
      "[1.96941951]\n"
     ]
    }
   ],
   "source": [
    "#Beräkna TUR\n",
    "importlib.reload(tc)\n",
    "TUR_vio, _, eff_vio, sigma_vio = tc.calculate_tur(T_L=T_L, T_R=T_R, I=I_vio, I_var=I_var_vio, J_QH=J_QH_vio, P=P_vio)\n",
    "print(np.sort(TUR_vio[~np.isnan(TUR_vio)]))"
   ]
  },
  {
   "cell_type": "code",
   "execution_count": 51,
   "metadata": {},
   "outputs": [
    {
     "data": {
      "image/png": "[encoded data removed]",
      "text/plain": [
       "<Figure size 640x480 with 2 Axes>"
      ]
     },
     "metadata": {},
     "output_type": "display_data"
    },
    {
     "data": {
      "text/plain": [
       "Text(0, 0.5, 'V')"
      ]
     },
     "execution_count": 51,
     "metadata": {},
     "output_type": "execute_result"
    },
    {
     "data": {
      "image/png": "[encoded data removed]",
      "text/plain": [
       "<Figure size 640x480 with 2 Axes>"
      ]
     },
     "metadata": {},
     "output_type": "display_data"
    }
   ],
   "source": [
    "img = plt.imshow(I, extent=[epsilons[0], epsilons[-1], VBs[0], VBs[-1]], aspect='auto', origin='lower')\n",
    "plt.colorbar()\n",
    "plt.xlabel('epsilon')\n",
    "plt.ylabel('V')\n",
    "#img.set_clim(-0.1, 0.1)  # Set color limits\n",
    "plt.show()\n",
    "\n",
    "TUR_masked = np.ma.masked_where(TUR >= 1.98, TUR)\n",
    "\n",
    "img = plt.imshow(TUR_masked, extent=[epsilons[0], epsilons[-1], VBs[0], VBs[-1]], aspect='auto', origin='lower')\n",
    "plt.colorbar()\n",
    "plt.xlabel('epsilon')\n",
    "plt.ylabel('V')\n",
    "#for row in indices:\n",
    "#    plt.scatter(Epsilon[row[0], row[1]],VB[row[0],row[1]],marker=\"o\")\n",
    "#img.set_clim(-0.1, 0.1)  # Set color limits"
   ]
  },
  {
   "cell_type": "code",
   "execution_count": 52,
   "metadata": {},
   "outputs": [],
   "source": [
    "#ZOOMAR IN PÅ INTRESSANT OMRÅDE:\n",
    "\n",
    "\n",
    "#--SETUP: ---------------------------------------------------------------------------------\n",
    "VBs = np.linspace(0,0.5, 20) # np.linspace(-10000,10000, 100)\n",
    "epsilons = np.linspace(0, 2.1, 20) # np.linspace(-6000, 6000, 10)\n",
    "#T = 1\n",
    "T_L = 2.5 #100\n",
    "T_R = 1 #T_L\n",
    "\n",
    "INPUT = {\n",
    "    'omega': 0.002, #1000\n",
    "    'u_intra': 1000, #2000\n",
    "    'u_inter': 800, #1000\n",
    "    'gammaL': 0.005, #0.5\n",
    "    'gammaR': 0.005, #0.5\n",
    "    'T_L': T_L,\n",
    "    'T_R': T_R,\n",
    "}\n",
    "\n",
    "#--SETUP: ---------------------------------------------------------------------------------\n",
    "\n",
    "importlib.reload(vs)\n",
    "I, I_var, J_QH, P, P_0 = vs.run_sweep(VBs, epsilons, **INPUT)"
   ]
  },
  {
   "cell_type": "code",
   "execution_count": 53,
   "metadata": {},
   "outputs": [
    {
     "name": "stdout",
     "output_type": "stream",
     "text": [
      "[1.96726733 1.96751655 1.96818514 1.96820855 1.968558   1.96878862\n",
      " 1.96897147 1.96910363 1.96959517 1.96973981 1.969921   1.97002212\n",
      " 1.9704954  1.97051292 1.97062731 1.97090552 1.97093988 1.97104395\n",
      " 1.97107403 1.97129014 1.97165368 1.97166252 1.97185621 1.97207081\n",
      " 1.9720951  1.97215671 1.97226026 1.97267353 1.97277039 1.97285426\n",
      " 1.97286666 1.97325851 1.97327004 1.97348112 1.97363981 1.97368145\n",
      " 1.97368171 1.97368611 1.97410301 1.97426933 1.97434859 1.97442679\n",
      " 1.97442958 1.97458944 1.97463638 1.97469068 1.97473173 1.97489409\n",
      " 1.97501737 1.9752145  1.97536664 1.97541176 1.97542618 1.97549286\n",
      " 1.97557294 1.97568649 1.97581903 1.97600226 1.9760071  1.97608693\n",
      " 1.97623863 1.97639123 1.97649052 1.97665248 1.97667002 1.97667278\n",
      " 1.97669936 1.97678936 1.97692611 1.97711263 1.97725922 1.97728382\n",
      " 1.97730213 1.97754085 1.9775659  1.97757512 1.9776488  1.97780807\n",
      " 1.97795539 1.97802926 1.97812799 1.97816991 1.97835882 1.9784102\n",
      " 1.97850211 1.97857641 1.9786116  1.97861381 1.97889831 1.97898388\n",
      " 1.97904876 1.97913975 1.9792701  1.97930508 1.97947397 1.97953913\n",
      " 1.97956704 1.97959645 1.97965711 1.97978759 1.97991722 1.97991963\n",
      " 1.97993021 1.9799357  1.97996934 1.97997176 1.98010098 1.98028299\n",
      " 1.9804489  1.98045668 1.98047664 1.98048124 1.98050776 1.98059127\n",
      " 1.9806002  1.98064526 1.98069049 1.98069526 1.98078179 1.98092457\n",
      " 1.980988   1.98102041 1.98116866 1.98125258 1.98142702 1.98143522\n",
      " 1.98145887 1.98150521 1.98158205 1.98158692 1.98160732 1.98163451\n",
      " 1.98169914 1.98172786 1.98191347 1.98198449 1.98202764 1.98205077\n",
      " 1.98222163 1.98228254 1.98234867 1.98247703 1.98255464 1.98255587\n",
      " 1.98259275 1.9826805  1.98273631 1.98278621 1.98291456 1.98305969\n",
      " 1.98324737 1.98324741 1.98330865 1.98350632 1.98359074 1.98375134\n",
      " 1.9838196  1.9838352  1.98394397 1.98404645 1.98406377 1.98413059\n",
      " 1.98430652 1.98443752 1.98479389 1.98482732 1.98490334 1.9849976\n",
      " 1.98501032 1.98514813 1.98534875 1.98580748 1.9858087  1.9859401\n",
      " 1.98595062 1.98619891 1.9862393  1.98676304 1.98679145 1.98686662\n",
      " 1.98694487 1.98710846 1.98721552 1.9875949  1.98768969 1.98774519\n",
      " 1.98775767 1.98791704 1.98819741 1.98857779 1.98858801 1.98862307\n",
      " 1.98866807 1.98885604 1.98914406 1.98945735 1.98946219 1.9895236\n",
      " 1.98955949 1.98976131 1.99005494 1.99029712 1.99041888 1.99043191\n",
      " 1.99063233 1.99088318 1.9909296  1.99110672 1.9912457  1.99130229\n",
      " 1.9914686  1.9917415  1.99176759 1.9918856  1.99203942 1.99213436\n",
      " 1.99226964 1.9925602  1.99256849 1.99279957 1.9929278  1.99303504\n",
      " 1.99333196 1.99333904 1.99352569 1.99368231 1.99376441 1.9937934\n",
      " 1.99405768 1.99407781 1.99421742 1.99439769 1.99445744 1.99450992\n",
      " 1.99474544 1.99477639 1.9950738  1.9951139  1.9951856  1.99539508\n",
      " 1.99543477 1.99571061 1.99573365 1.99582055 1.99600661 1.99605307\n",
      " 1.99622332 1.99630827 1.99631671 1.99641503 1.99658019 1.99663158\n",
      " 1.99678918 1.99686713 1.99696955 1.99711626 1.99717089 1.99731542\n",
      " 1.99738789 1.997485   1.99761568 1.99767204 1.99780327 1.99787179\n",
      " 1.9979628  1.99807995 1.99811992 1.99813674 1.9982547  1.99832094\n",
      " 1.99840536 1.99854278 1.99856795 1.998673   1.99873902 1.99881675\n",
      " 1.99893582 1.99897082 1.9990639  1.99913261 1.99920428 1.99930716\n",
      " 1.99935483 1.99943793 1.99951422 1.99954594 1.99958191 1.99967241\n",
      " 1.99973879 1.99981627 1.99991162 1.99997894 2.00006495 2.00016417\n",
      " 2.00024666 2.00034332 2.00046557 2.00056722 2.00073754 2.00085639\n",
      " 2.00099462 2.00124669 2.00143229 2.00165426 2.00180585 2.0020871\n",
      " 2.00243805 2.00315232 2.00378695 2.00465415 2.00644353 2.00848024\n",
      " 2.012918   2.01947492 2.03339901 2.07936366 2.30613049]\n"
     ]
    }
   ],
   "source": [
    "#Beräkna TUR\n",
    "importlib.reload(tc)\n",
    "TUR, eff_carnot, eff, sigma = tc.calculate_tur(T_L=T_L, T_R=T_R, I=I, I_var=I_var, J_QH=J_QH, P=P)\n",
    "print(np.sort(TUR[~np.isnan(TUR)]))"
   ]
  },
  {
   "cell_type": "code",
   "execution_count": 54,
   "metadata": {},
   "outputs": [
    {
     "data": {
      "image/png": "[encoded data removed]",
      "text/plain": [
       "<Figure size 640x480 with 2 Axes>"
      ]
     },
     "metadata": {},
     "output_type": "display_data"
    },
    {
     "data": {
      "text/plain": [
       "Text(0, 0.5, 'V')"
      ]
     },
     "execution_count": 54,
     "metadata": {},
     "output_type": "execute_result"
    },
    {
     "data": {
      "image/png": "[encoded data removed]",
      "text/plain": [
       "<Figure size 640x480 with 2 Axes>"
      ]
     },
     "metadata": {},
     "output_type": "display_data"
    }
   ],
   "source": [
    "img = plt.imshow(I, extent=[epsilons[0], epsilons[-1], VBs[0], VBs[-1]], aspect='auto', origin='lower')\n",
    "plt.colorbar()\n",
    "plt.xlabel('epsilon')\n",
    "plt.ylabel('V')\n",
    "#img.set_clim(-0.1, 0.1)  # Set color limits\n",
    "plt.show()\n",
    "\n",
    "TUR_masked = np.ma.masked_where(TUR >= 1.98, TUR)\n",
    "\n",
    "img = plt.imshow(TUR_masked, extent=[epsilons[0], epsilons[-1], VBs[0], VBs[-1]], aspect='auto', origin='lower')\n",
    "plt.colorbar()\n",
    "plt.xlabel('epsilon')\n",
    "plt.ylabel('V')\n",
    "#for row in indices:\n",
    "#    plt.scatter(Epsilon[row[0], row[1]],VB[row[0],row[1]],marker=\"o\")\n",
    "#img.set_clim(-0.1, 0.1)  # Set color limits"
   ]
  },
  {
   "cell_type": "code",
   "execution_count": 55,
   "metadata": {},
   "outputs": [
    {
     "name": "stdout",
     "output_type": "stream",
     "text": [
      "1.9672673337865518\n",
      "[[ 1 15]]\n",
      "1.9672673337865518\n",
      "Epsilon: 1.6578947368421053\n",
      "VB: 0.02631578947368421\n"
     ]
    }
   ],
   "source": [
    "print(np.nanmin(TUR))\n",
    "\n",
    "min_idx = np.argwhere(TUR == np.nanmin(TUR))\n",
    "\n",
    "print(min_idx)\n",
    "\n",
    "print(TUR[1,15])\n",
    "\n",
    "Epsilon, VB = np.meshgrid(epsilons, VBs)\n",
    "print(\"Epsilon:\", Epsilon[1,15])\n",
    "print(\"VB:\", VB[1,15])"
   ]
  }
 ],
 "metadata": {
  "kernelspec": {
   "display_name": "venv",
   "language": "python",
   "name": "python3"
  },
  "language_info": {
   "codemirror_mode": {
    "name": "ipython",
    "version": 3
   },
   "file_extension": ".py",
   "mimetype": "text/x-python",
   "name": "python",
   "nbconvert_exporter": "python",
   "pygments_lexer": "ipython3",
   "version": "3.13.1"
  }
 },
 "nbformat": 4,
 "nbformat_minor": 2
}
